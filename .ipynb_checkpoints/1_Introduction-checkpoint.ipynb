{
 "cells": [
  {
   "cell_type": "code",
   "execution_count": 2,
   "metadata": {},
   "outputs": [
    {
     "name": "stdout",
     "output_type": "stream",
     "text": [
      "Hello world!\n",
      "If you put water in a tea cup it becomes tea cup. The water is formless and stateless.Be water my friend!\n"
     ]
    }
   ],
   "source": [
    "print(\"Hello world!\")\n",
    "s = \"If you put water in a tea cup it becomes tea cup. The water is formless and stateless.Be water my friend!\"\n",
    "print(s)"
   ]
  },
  {
   "cell_type": "code",
   "execution_count": 4,
   "metadata": {},
   "outputs": [
    {
     "name": "stdout",
     "output_type": "stream",
     "text": [
      "6\n",
      "Weird\n"
     ]
    }
   ],
   "source": [
    "# If else:\n",
    "\n",
    "n = int(input())\n",
    "if n%2==1:\n",
    "    print(\"Weird\")\n",
    "elif n%2==0 and 2<=n<=5:\n",
    "    print(\"Not Weird\")\n",
    "elif n%2==0 and 6<=n<=20:\n",
    "    print(\"Weird\")\n",
    "else:\n",
    "    print(\"Not Weird\")"
   ]
  },
  {
   "cell_type": "code",
   "execution_count": 5,
   "metadata": {},
   "outputs": [
    {
     "name": "stdout",
     "output_type": "stream",
     "text": [
      "5\n",
      "4\n",
      "9\n",
      "1\n",
      "20\n"
     ]
    }
   ],
   "source": [
    "# Arithmetic operations\n",
    "a = int(input())\n",
    "b = int(input())\n",
    "print(a+b)\n",
    "print(a-b)\n",
    "print(a*b)"
   ]
  },
  {
   "cell_type": "code",
   "execution_count": 6,
   "metadata": {},
   "outputs": [
    {
     "name": "stdout",
     "output_type": "stream",
     "text": [
      "5\n",
      "2\n",
      "2\n",
      "2.5\n"
     ]
    }
   ],
   "source": [
    "a = int(input())\n",
    "b = int(input())\n",
    "# Integer division -> No fraction value (Only Whole no)\n",
    "print(a//b) \n",
    "# Float division -> Have fraction value (Only float division)\n",
    "print(a/b)"
   ]
  },
  {
   "cell_type": "code",
   "execution_count": 8,
   "metadata": {},
   "outputs": [
    {
     "name": "stdout",
     "output_type": "stream",
     "text": [
      "0\n",
      "1\n",
      "2\n",
      "3\n",
      "4\n",
      "01234"
     ]
    }
   ],
   "source": [
    "# Normally if you are printing iterative elements in a for loop it print each elements in a new line\n",
    "# For eg:\n",
    "for i in range(0,5):\n",
    "    print(i)\n",
    "# Now if we need to print all these element in a single line mentioning the space between the character to be printed.\n",
    "# For this you need to specify end=''(Quotation denotes the spaces between the digits or char)\n",
    "for i in range(0,5):\n",
    "    print(i,end='')"
   ]
  },
  {
   "cell_type": "code",
   "execution_count": 34,
   "metadata": {},
   "outputs": [
    {
     "name": "stdout",
     "output_type": "stream",
     "text": [
      "8\n"
     ]
    }
   ],
   "source": [
    "# Writing a function in python\n",
    "\n",
    "def hello(n):# Function definition\n",
    "    print(n)\n",
    "\n",
    "\n",
    "hello(8) # Function Declaration holding a string parameter"
   ]
  },
  {
   "cell_type": "code",
   "execution_count": 37,
   "metadata": {},
   "outputs": [
    {
     "name": "stdout",
     "output_type": "stream",
     "text": [
      "1992\n",
      "Leap Year\n"
     ]
    }
   ],
   "source": [
    "# Write a function for leap year\n",
    "def is_leap_year(year): #function definition\n",
    "    leap = False\n",
    "    if((year%400==0) or (year%4==0 and year%100!=0)):\n",
    "        leap = True\n",
    "        return leap\n",
    "    else:\n",
    "        return leap\n",
    "\n",
    "s = is_leap_year(int(input())) #function declaration\n",
    "if(s==True):\n",
    "    print(\"Leap Year\")\n",
    "else:\n",
    "    print(\"Not a Leap Year\")"
   ]
  }
 ],
 "metadata": {
  "kernelspec": {
   "display_name": "Python 3",
   "language": "python",
   "name": "python3"
  },
  "language_info": {
   "codemirror_mode": {
    "name": "ipython",
    "version": 3
   },
   "file_extension": ".py",
   "mimetype": "text/x-python",
   "name": "python",
   "nbconvert_exporter": "python",
   "pygments_lexer": "ipython3",
   "version": "3.6.2"
  }
 },
 "nbformat": 4,
 "nbformat_minor": 2
}
