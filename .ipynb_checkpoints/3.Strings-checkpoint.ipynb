{
 "cells": [
  {
   "cell_type": "code",
   "execution_count": 2,
   "metadata": {},
   "outputs": [
    {
     "name": "stdout",
     "output_type": "stream",
     "text": [
      "Never give up on your dreams!\n",
      "Never-give-up-on-your-dreams!\n"
     ]
    }
   ],
   "source": [
    "# String split and join\n",
    "def split_and_join(line):\n",
    "    line = line.split() #split by blank spaces\n",
    "    #Now join the string by a delimeter '-'\n",
    "    line = '-'.join(line)\n",
    "    return line\n",
    "    \n",
    "if __name__ == \"__main__\":\n",
    "    line = input()\n",
    "    result = split_and_join(line)\n",
    "    print(result)"
   ]
  },
  {
   "cell_type": "code",
   "execution_count": 3,
   "metadata": {},
   "outputs": [
    {
     "name": "stdout",
     "output_type": "stream",
     "text": [
      "dinesh\n",
      "sonachalam\n",
      "Hello dinesh sonachalam ! You just delieved into python\n"
     ]
    }
   ],
   "source": [
    "a = input()\n",
    "b = input()\n",
    "print(\"Hello %s %s ! You just delieved into python\"%(a,b))"
   ]
  },
  {
   "cell_type": "code",
   "execution_count": 5,
   "metadata": {},
   "outputs": [
    {
     "name": "stdout",
     "output_type": "stream",
     "text": [
      "Python\n",
      "P\n",
      "y\n",
      "t\n",
      "h\n",
      "o\n",
      "n\n"
     ]
    }
   ],
   "source": [
    "s = input() # string input\n",
    "# Traversing the string character line by line\n",
    "for i in range(0,len(s)):\n",
    "    print(s[i])"
   ]
  },
  {
   "cell_type": "markdown",
   "metadata": {},
   "source": [
    "##### strip() :\n",
    "            Removes all whitespaces from the beginning and the end of the string."
   ]
  },
  {
   "cell_type": "code",
   "execution_count": 8,
   "metadata": {},
   "outputs": [
    {
     "name": "stdout",
     "output_type": "stream",
     "text": [
      "b\n"
     ]
    },
    {
     "ename": "TypeError",
     "evalue": "'str' object does not support item assignment",
     "output_type": "error",
     "traceback": [
      "\u001b[1;31m---------------------------------------------------------------------------\u001b[0m",
      "\u001b[1;31mTypeError\u001b[0m                                 Traceback (most recent call last)",
      "\u001b[1;32m<ipython-input-8-8da3c2af84ac>\u001b[0m in \u001b[0;36m<module>\u001b[1;34m()\u001b[0m\n\u001b[0;32m      2\u001b[0m \u001b[0ms\u001b[0m \u001b[1;33m=\u001b[0m \u001b[1;34m\"abc\"\u001b[0m\u001b[1;33m\u001b[0m\u001b[0m\n\u001b[0;32m      3\u001b[0m \u001b[0mprint\u001b[0m\u001b[1;33m(\u001b[0m\u001b[0ms\u001b[0m\u001b[1;33m[\u001b[0m\u001b[1;36m1\u001b[0m\u001b[1;33m]\u001b[0m\u001b[1;33m)\u001b[0m\u001b[1;33m\u001b[0m\u001b[0m\n\u001b[1;32m----> 4\u001b[1;33m \u001b[0ms\u001b[0m\u001b[1;33m[\u001b[0m\u001b[1;36m1\u001b[0m\u001b[1;33m]\u001b[0m \u001b[1;33m=\u001b[0m \u001b[1;34m'k'\u001b[0m\u001b[1;33m\u001b[0m\u001b[0m\n\u001b[0m",
      "\u001b[1;31mTypeError\u001b[0m: 'str' object does not support item assignment"
     ]
    }
   ],
   "source": [
    "# String are immutable that is they cannot be changed\n",
    "s = \"abc\"\n",
    "print(s[1])\n",
    "s[1] = 'k' # will throw an error "
   ]
  },
  {
   "cell_type": "code",
   "execution_count": 10,
   "metadata": {},
   "outputs": [
    {
     "name": "stdout",
     "output_type": "stream",
     "text": [
      "abc\n",
      "akc\n"
     ]
    }
   ],
   "source": [
    "# String can be converted only when converted into list\n",
    "s = \"abc\"\n",
    "print(s)\n",
    "list_l = list(s)\n",
    "list_l[1] ='k'\n",
    "s = ''.join(list_l) # joining the list into the string without blank spaces\n",
    "\n",
    "print(s)"
   ]
  },
  {
   "cell_type": "markdown",
   "metadata": {},
   "source": [
    "### textwrap:\n",
    "It contains 2 modules\n",
    "- textwrap.wrap() -> wraps single para in text(string) so every line is width char long at most.\n",
    "- textwrap.fill() -> wraps single char in text and returns singel string containing wrapped paragraph.\n"
   ]
  },
  {
   "cell_type": "code",
   "execution_count": 2,
   "metadata": {},
   "outputs": [
    {
     "name": "stdout",
     "output_type": "stream",
     "text": [
      "['This is', 'a very', 'long', 'string', 'that', 'cannot', 'be fixed', 'in a par', 'agraph!']\n",
      "This is\n",
      "a very\n",
      "long\n",
      "string\n",
      "that\n",
      "cannot\n",
      "be fixed\n",
      "in a par\n",
      "agraph!\n"
     ]
    }
   ],
   "source": [
    "import textwrap\n",
    "string = \"This is a very long string that cannot be fixed in a paragraph!\"\n",
    "print(textwrap.wrap(string,8))\n",
    "print(textwrap.fill(string,8))"
   ]
  },
  {
   "cell_type": "code",
   "execution_count": 4,
   "metadata": {},
   "outputs": [
    {
     "name": "stdout",
     "output_type": "stream",
     "text": [
      "7 21\n",
      "---------.|.---------\n",
      "------.|..|..|.------\n",
      "---.|..|..|..|..|.---\n",
      "-------WELCOME-------\n",
      "---.|..|..|..|..|.---\n",
      "------.|..|..|.------\n",
      "---------.|.---------\n"
     ]
    }
   ],
   "source": [
    "N, M = map(int,input().split())\n",
    "for i in range(1,N,2): \n",
    "    print((i * \".|.\").center(M, \"-\"))\n",
    "print(\"WELCOME\".center(M,\"-\"))\n",
    "for i in range(N-2,-1,-2): \n",
    "    print((i * \".|.\").center(M, \"-\"))"
   ]
  },
  {
   "cell_type": "code",
   "execution_count": 19,
   "metadata": {},
   "outputs": [
    {
     "name": "stdout",
     "output_type": "stream",
     "text": [
      "17\n",
      "     1     o1      1      1\n",
      "     2     o2      2     10\n",
      "     3     o3      3     11\n",
      "     4     o4      4    100\n",
      "     5     o5      5    101\n",
      "     6     o6      6    110\n",
      "     7     o7      7    111\n",
      "     8     o1      8   1000\n",
      "     9    o11      9   1001\n",
      "    10    o12      A   1010\n",
      "    11    o13      B   1011\n",
      "    12    o14      C   1100\n",
      "    13    o15      D   1101\n",
      "    14    o16      E   1110\n",
      "    15    o17      F   1111\n",
      "    16     o2     10  10000\n",
      "    17    o21     11  10001\n"
     ]
    }
   ],
   "source": [
    "# String formatting\n",
    "input_1 = int(input())\n",
    "w = len(str(bin(input_1)).replace('0b',' ') )\n",
    "\n",
    "for i in range(1,input_1+1):\n",
    "    b = bin(int(i)).replace('0b','').rjust(w,' ')\n",
    "    o = oct(int(i)).replace('0','').rjust(w,' ')\n",
    "    h = hex(int(i)).replace('0x','').upper().rjust(w,' ')\n",
    "    j = str(i).rjust(w,' ')\n",
    "    print(j,o,h,b)"
   ]
  },
  {
   "cell_type": "code",
   "execution_count": 123,
   "metadata": {},
   "outputs": [
    {
     "name": "stdout",
     "output_type": "stream",
     "text": [
      "5 \n",
      "5 4 5 \n",
      "5 4 3 4 5 \n",
      "5 4 3 2 3 4 5 \n",
      "5 4 3 2 1 2 3 4 5 \n",
      "5 4 3 2 3 4 5 \n",
      "5 4 3 4 5 \n",
      "5 4 5 \n",
      "5 \n"
     ]
    }
   ],
   "source": [
    "size = 5\n",
    "temp1 = size - 1\n",
    "\n",
    "# Original image\n",
    "for y in range(0,size,1):\n",
    "    for i in range(size,temp1,-1):\n",
    "        print(i,\"\",end=\"\") #Left\n",
    "\n",
    "    z = temp1 + 1 #right\n",
    "    for i in range(z,size,1):\n",
    "        z = z + 1\n",
    "        print(z,\"\",end=\"\")\n",
    "    temp1 = temp1 - 1\n",
    "    print(\"\")\n",
    "    \n",
    "# print(\"Temp:\",temp1)\n",
    "    \n",
    "# Reflection image\n",
    "\n",
    "temp1 = 1\n",
    "for y in range(size-1,0,-1):\n",
    "    for i in range(size,temp1,-1):\n",
    "        print(i,\"\",end=\"\") # left\n",
    "    z = temp1 + 2;\n",
    "    for i in range(z,size+1,1):\n",
    "        print(i,\"\",end=\"\") # Right\n",
    "    \n",
    "    temp1  = temp1+1\n",
    "    print()\n",
    "    \n",
    "    \n"
   ]
  },
  {
   "cell_type": "code",
   "execution_count": 114,
   "metadata": {},
   "outputs": [
    {
     "data": {
      "text/plain": [
       "'e'"
      ]
     },
     "execution_count": 114,
     "metadata": {},
     "output_type": "execute_result"
    }
   ],
   "source": [
    "chr(96 + 5)\n"
   ]
  },
  {
   "cell_type": "code",
   "execution_count": 132,
   "metadata": {},
   "outputs": [
    {
     "name": "stdout",
     "output_type": "stream",
     "text": [
      "--------e --------\n",
      "------e d e ------\n",
      "----e d c d e ----\n",
      "--e d c b c d e --\n",
      "e d c b a b c d e \n",
      "--e d c b c d e --\n",
      "----e d c d e ----\n",
      "------e d e ------\n",
      "--------e --------\n"
     ]
    }
   ],
   "source": [
    "\n",
    "size = 5\n",
    "temp1 = size - 1\n",
    "space = temp1*2\n",
    "\n",
    "# Original image\n",
    "for y in range(0,size,1):\n",
    "    \n",
    "    ## FRONT SPACE\n",
    "    for j in range(0,space,1):\n",
    "        print(\"-\",end=\"\")\n",
    "    \n",
    "    for i in range(size,temp1,-1):\n",
    "        print(chr(i+96),\"\",end=\"\") #Left\n",
    "\n",
    "    z = temp1 + 1 #right\n",
    "    for i in range(z,size,1):\n",
    "        z = z + 1\n",
    "        print(chr(z+96),\"\",end=\"\")\n",
    "    temp1 = temp1 - 1\n",
    "    \n",
    "      ## BACK SPACE\n",
    "    for j in range(0,space,1):\n",
    "        print(\"-\",end=\"\")\n",
    "    space = space - 2\n",
    "    \n",
    "    print(\"\")\n",
    "    \n",
    "# Reflection image\n",
    "temp1 = 1\n",
    "space = 2\n",
    "for y in range(size-1,0,-1):\n",
    "    \n",
    "       ## FRONT SPACE\n",
    "    for j in range(0,space,1):\n",
    "        print(\"-\",end=\"\")\n",
    "        \n",
    "    \n",
    "    for i in range(size,temp1,-1):\n",
    "        print(chr(i+96),\"\",end=\"\") # left\n",
    "    z = temp1 + 2;\n",
    "    for i in range(z,size+1,1):\n",
    "        print(chr(i+96),\"\",end=\"\") # Right\n",
    "    \n",
    "    temp1  = temp1+1\n",
    "    \n",
    "     ## BACK SPACE\n",
    "    for j in range(0,space,1):\n",
    "        print(\"-\",end=\"\")\n",
    "    space = space + 2\n",
    "    \n",
    "    print()\n",
    "    \n",
    "    \n"
   ]
  },
  {
   "cell_type": "code",
   "execution_count": 3,
   "metadata": {},
   "outputs": [
    {
     "name": "stdout",
     "output_type": "stream",
     "text": [
      "--------e - - - - - - - - \n",
      "------e d e- - - - - - \n",
      "----e d c de- - - - \n",
      "--e d c b cde- - \n",
      "e d c b a bcde\n"
     ]
    }
   ],
   "source": [
    "\n",
    "size = 5\n",
    "temp1 = size - 1\n",
    "space = temp1*2\n",
    "\n",
    "# Original image\n",
    "for y in range(0,size,1):\n",
    "    \n",
    "    ## FRONT SPACE\n",
    "    for j in range(0,space,1):\n",
    "        print(\"-\",end=\"\")\n",
    "    \n",
    "    for i in range(size,temp1,-1):\n",
    "        print(chr(i+96),\"\",end=\"\") #Left\n",
    "\n",
    "    z = temp1 + 1 #right\n",
    "    for i in range(z,size,1):\n",
    "        z = z + 1\n",
    "        print(chr(z+96),end=\"\")\n",
    "    temp1 = temp1 - 1\n",
    "    \n",
    "      ## BACK SPACE\n",
    "    for j in range(0,space,1):\n",
    "      \n",
    "        print(\"-\",end=\"\")\n",
    "    space = space - 2\n",
    "    \n",
    "    print(\"\")\n",
    "    \n",
    "# # Reflection image\n",
    "# temp1 = 1\n",
    "# space = 2\n",
    "# for y in range(size-1,0,-1):\n",
    "    \n",
    "#        ## FRONT SPACE\n",
    "#     for j in range(0,space,1):\n",
    "#         print(\"-\",end=\"\")\n",
    "        \n",
    "    \n",
    "#     for i in range(size,temp1,-1):\n",
    "#         print(chr(i+96),\"\",end=\"\") # left\n",
    "#     z = temp1 + 2;\n",
    "#     for i in range(z,size+1,1):\n",
    "#         print(chr(i+96),\"\",end=\"\") # Right\n",
    "    \n",
    "#     temp1  = temp1+1\n",
    "    \n",
    "#      ## BACK SPACE\n",
    "#     for j in range(0,space,1):\n",
    "#         print(\"-\",end=\"\")\n",
    "#     space = space + 2\n",
    "    \n",
    "#     print()\n",
    "    \n",
    "    \n"
   ]
  },
  {
   "cell_type": "code",
   "execution_count": null,
   "metadata": {
    "collapsed": true
   },
   "outputs": [],
   "source": []
  }
 ],
 "metadata": {
  "kernelspec": {
   "display_name": "Python 3",
   "language": "python",
   "name": "python3"
  },
  "language_info": {
   "codemirror_mode": {
    "name": "ipython",
    "version": 3
   },
   "file_extension": ".py",
   "mimetype": "text/x-python",
   "name": "python",
   "nbconvert_exporter": "python",
   "pygments_lexer": "ipython3",
   "version": "3.6.2"
  }
 },
 "nbformat": 4,
 "nbformat_minor": 2
}
