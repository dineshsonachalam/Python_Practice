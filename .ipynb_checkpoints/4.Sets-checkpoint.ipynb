{
 "cells": [
  {
   "cell_type": "markdown",
   "metadata": {
    "collapsed": true
   },
   "source": [
    "### Sets:\n",
    "\n",
    "- A set is an unordered collection of elements without duplicate entries. \n",
    "- When printed, iterated or converted into a sequence, its elements will appear in an arbitrary order."
   ]
  },
  {
   "cell_type": "code",
   "execution_count": 14,
   "metadata": {},
   "outputs": [
    {
     "name": "stdout",
     "output_type": "stream",
     "text": [
      "set()\n",
      "{'n', 'e', 'H', 'r', 'k', 'c', 'R', 'a'}\n",
      "{0, 1, 2, 3, 4, 5, 6, 9, 12, 22}\n",
      "{1, 2, 3, 4, 5}\n",
      "{'n', 'e', 'H', 'k', 'c', 'r', 'a'}\n"
     ]
    }
   ],
   "source": [
    "print(set())\n",
    "print(set(\"HackerRank\"))\n",
    "print(set([1,2,3,4,5,6,0,9,12,22,3]))\n",
    "print(set((1,2,3,4,5,5)))\n",
    "print(set(set(['H','a','c','k','e','r','r','a','n','k'])))"
   ]
  },
  {
   "cell_type": "code",
   "execution_count": 1,
   "metadata": {},
   "outputs": [
    {
     "name": "stdout",
     "output_type": "stream",
     "text": [
      "5  4 3 2\n",
      "['5', '4', '3', '2']\n"
     ]
    }
   ],
   "source": [
    "# 1. If input given in a single line sepearated by space characters\n",
    "s = input().split() # here we are splitting by blank spaces\n",
    "print(s)\n"
   ]
  },
  {
   "cell_type": "code",
   "execution_count": 6,
   "metadata": {},
   "outputs": [
    {
     "name": "stdout",
     "output_type": "stream",
     "text": [
      "<map object at 0x000002400B1F52B0>\n",
      "[5, 4, 3, 2]\n"
     ]
    }
   ],
   "source": [
    "# 2. If the list values are string you have to convert the string values to int values\n",
    "#    Use map(int,list)->method to convert all the string values to the integers\n",
    "new_list = map(int,s)\n",
    "print(new_list) # <map object at 0x000002400B1F5320>\n",
    "\n",
    "# Here we have to note that map() function returns a map object\n",
    "# We have to convert the map object to corresponding list,tuples and so on.\n",
    "print(list(new_list)) #[5, 4, 3, 2]"
   ]
  },
  {
   "cell_type": "markdown",
   "metadata": {
    "collapsed": true
   },
   "source": [
    "#### 1.Creating a set:"
   ]
  },
  {
   "cell_type": "code",
   "execution_count": 1,
   "metadata": {},
   "outputs": [
    {
     "name": "stdout",
     "output_type": "stream",
     "text": [
      "{1, 2}\n",
      "{'a', 'b'}\n"
     ]
    }
   ],
   "source": [
    "myset={1,2} # Directly assign value to the set\n",
    "print(myset)\n",
    "myset = set() # Initializing a set\n",
    "myset = set(['a','b']) # Creating a set from a list\n",
    "print(myset)"
   ]
  },
  {
   "cell_type": "markdown",
   "metadata": {},
   "source": [
    "#### 2.Modify set using add() function:\n"
   ]
  },
  {
   "cell_type": "code",
   "execution_count": 4,
   "metadata": {},
   "outputs": [
    {
     "name": "stdout",
     "output_type": "stream",
     "text": [
      "{(5, 4), 'a', 'b', 'c'}\n",
      "{(5, 4), 'a', 'b', 'c'}\n"
     ]
    }
   ],
   "source": [
    "myset.add('c')\n",
    "print(myset) # {'a', 'b', 'c'}\n",
    "myset.add('a') # 'a' already exists in the set so its not added into the set\n",
    "myset.add((5,4))\n",
    "print(myset) # {(5, 4), 'a', 'b', 'c'}"
   ]
  },
  {
   "cell_type": "markdown",
   "metadata": {},
   "source": [
    "#### 3.update() function:"
   ]
  },
  {
   "cell_type": "code",
   "execution_count": 17,
   "metadata": {},
   "outputs": [
    {
     "name": "stdout",
     "output_type": "stream",
     "text": [
      "{1, (5, 4), 'b', 2, 3, 4, 6, 5, 'a', 13, 'c'}\n",
      "{1, (5, 4), 'b', 2, 3, 4, 6, 5, 'a', 13, 'c'}\n"
     ]
    }
   ],
   "source": [
    "myset.update([1,2,3,4]) # update() -> only works for iterable object\n",
    "print(myset) # {1, (5, 4), 'b', 2, 3, 4, 'a', 'c'}\n",
    "myset.update({1,6},[5,13])\n",
    "print(myset) # {1, (5, 4), 'b', 2, 3, 4, 6, 5, 'a', 13, 'c'}"
   ]
  },
  {
   "cell_type": "markdown",
   "metadata": {},
   "source": [
    "#### 4.Removing items:\n",
    "- discard() -> when element to be deleted from set -> not present in set -> Does nothing\n",
    "- remove() -> when element to be deleted from set -> not present in set -> Raises Error Exception"
   ]
  },
  {
   "cell_type": "code",
   "execution_count": 21,
   "metadata": {},
   "outputs": [
    {
     "name": "stdout",
     "output_type": "stream",
     "text": [
      "{1, (5, 4), 'b', 2, 3, 4, 6, 5, 'a', 13, 'c'}\n",
      "{1, (5, 4), 'b', 2, 3, 4, 6, 5, 'a', 'c'}\n"
     ]
    }
   ],
   "source": [
    "myset.discard(10)\n",
    "print(myset)\n",
    "myset.remove(13)\n",
    "print(myset) #{1, (5, 4), 'b', 2, 3, 4, 6, 5, 'a', 'c'}"
   ]
  },
  {
   "cell_type": "markdown",
   "metadata": {},
   "source": [
    "#### 5.Common Set Operation Using union(),intersection(),difference() function:"
   ]
  },
  {
   "cell_type": "code",
   "execution_count": 25,
   "metadata": {},
   "outputs": [
    {
     "name": "stdout",
     "output_type": "stream",
     "text": [
      "{2, 4, 5, 9, 11, 12}\n",
      "{2, 4}\n",
      "{9, 5}\n"
     ]
    }
   ],
   "source": [
    "a = {2,4,5,9}\n",
    "b = {2,4,11,12}\n",
    "print(a.union(b)) # Value which exists in a or b\n",
    "\n",
    "# {2,4,5,9,11,12}\n",
    "print(a.intersection(b)) # {2, 4, 5, 9, 11, 12}\n",
    "# Value exists in a and b\n",
    "\n",
    "print(a.difference(b)) # Value which exist in 'a' but not in 'b'\n",
    "# {9, 5}"
   ]
  },
  {
   "cell_type": "markdown",
   "metadata": {},
   "source": [
    "#### Symmetric Function:\n",
    "- union(),intersection() functions are symmetric functions"
   ]
  },
  {
   "cell_type": "markdown",
   "metadata": {},
   "source": [
    "Task \n",
    "Given  sets of integers,  and , print their symmetric difference in ascending order. The term symmetric difference indicates those values that exist in either  or  but do not exist in both.\n",
    "\n",
    "Input Format\n",
    "\n",
    "The first line of input contains an integer, . \n",
    "The second line contains  space-separated integers. \n",
    "The third line contains an integer, . \n",
    "The fourth line contains  space-separated integers.\n",
    "\n",
    "Output Format\n",
    "\n",
    "Output the symmetric difference integers in ascending order, one per line.\n",
    "\n",
    "Sample Input\n",
    "\n",
    "4\n",
    "2 4 5 9\n",
    "4\n",
    "2 4 11 12\n",
    "\n",
    "Sample Output\n",
    "\n",
    "5\n",
    "9\n",
    "11\n",
    "12"
   ]
  },
  {
   "cell_type": "code",
   "execution_count": 28,
   "metadata": {},
   "outputs": [
    {
     "name": "stdout",
     "output_type": "stream",
     "text": [
      "True\n",
      "True\n",
      "False\n"
     ]
    }
   ],
   "source": [
    "print(a.union(b) == b.union(a))\n",
    "# True\n",
    "print(a.intersection(b) == b.intersection(a))\n",
    "# True\n",
    "print(a.difference(b) == b.difference(a))\n",
    "# False"
   ]
  },
  {
   "cell_type": "code",
   "execution_count": 6,
   "metadata": {},
   "outputs": [
    {
     "name": "stdout",
     "output_type": "stream",
     "text": [
      "4\n",
      "1 2 3 4\n",
      "4\n",
      "3 4 5 6\n",
      "1\n",
      "2\n",
      "5\n",
      "6\n"
     ]
    }
   ],
   "source": [
    "input()\n",
    "s1 = set(map(int,input().split()))\n",
    "input()\n",
    "s2 = set(map(int,input().split()))\n",
    "ss = sorted(s1^s2) # To make the list in the sorted order\n",
    "for i in ss:\n",
    "    print(i)"
   ]
  },
  {
   "cell_type": "code",
   "execution_count": 8,
   "metadata": {},
   "outputs": [
    {
     "name": "stdout",
     "output_type": "stream",
     "text": [
      "4\n",
      "1 2 3 4\n",
      "4\n",
      "3 4 5 6\n",
      "1\n",
      "2\n",
      "5\n",
      "6\n"
     ]
    }
   ],
   "source": [
    "input()\n",
    "a = set(map(int,input().split()))\n",
    "input()\n",
    "b = set(map(int,input().split()))\n",
    "\n",
    "for i in sorted(a.difference(b).union(b.difference(a))):\n",
    "    print(i)"
   ]
  },
  {
   "cell_type": "markdown",
   "metadata": {},
   "source": [
    "There is an array of  integers. There are also  disjoint sets,  and , each containing  integers. You like all the integers in set  and dislike all the integers in set . Your initial happiness is . For each  integer in the array, if , you add  to your happiness. If , you add  to your happiness. Otherwise, your happiness does not change. Output your final happiness at the end.\n",
    "\n",
    "Note: Since  and  are sets, they have no repeated elements. However, the array might contain duplicate elements.\n",
    "\n",
    "Constraints \n",
    " \n",
    " \n",
    "\n",
    "Input Format\n",
    "\n",
    "The first line contains integers  and  separated by a space. \n",
    "The second line contains  integers, the elements of the array. \n",
    "The third and fourth lines contain  integers,  and , respectively.\n",
    "\n",
    "Output Format\n",
    "\n",
    "Output a single integer, your total happiness.\n",
    "\n",
    "Sample Input\n",
    "\n",
    "3 2\n",
    "1 5 3\n",
    "3 1\n",
    "5 7\n",
    "Sample Output\n",
    "\n",
    "1\n",
    "Explanation\n",
    "\n",
    "You gain  unit of happiness for elements  and  in set . You lose  unit for  in set . The element  in set does not exist in the array so it is not included in the calculation.\n",
    "\n",
    "Hence, the total happiness is 1"
   ]
  },
  {
   "cell_type": "code",
   "execution_count": 1,
   "metadata": {},
   "outputs": [
    {
     "name": "stdout",
     "output_type": "stream",
     "text": [
      "3 2\n",
      "1 5 3\n",
      "3 1\n",
      "5 7\n",
      "1\n"
     ]
    }
   ],
   "source": [
    "input()\n",
    "arr = input().split()\n",
    "set1 = set(input().split())\n",
    "set2 = set(input().split())\n",
    "\n",
    "h = 0\n",
    "for i in arr:\n",
    "    if(i in set1):\n",
    "        h+=1\n",
    "    if(i in set2):\n",
    "        h-=1\n",
    "print(h)"
   ]
  },
  {
   "cell_type": "code",
   "execution_count": null,
   "metadata": {},
   "outputs": [
    {
     "name": "stdout",
     "output_type": "stream",
     "text": [
      "7\n",
      "UK\n",
      "China\n",
      " USA\n",
      "France\n",
      "New Zealand\n",
      "UK\n",
      "France\n",
      "5\n"
     ]
    }
   ],
   "source": [
    "n = int(input())\n",
    "s = set()\n",
    "for i in range(0,n):\n",
    "    s.add(input())\n",
    "\n",
    "print(len(s))"
   ]
  },
  {
   "cell_type": "markdown",
   "metadata": {},
   "source": [
    "#### pop():\n",
    "- Removes and returns an arbitrary element from a set.\n",
    "- If there are no elements to remove, it raises a keyError.\n"
   ]
  },
  {
   "cell_type": "code",
   "execution_count": null,
   "metadata": {
    "collapsed": true
   },
   "outputs": [],
   "source": [
    "s = set([1])\n",
    "print(s.pop()) #1\n",
    "print(s) # set([])\n",
    "print(s.pop()) # KeyError: pop from an empty list\n"
   ]
  }
 ],
 "metadata": {
  "kernelspec": {
   "display_name": "Python 3",
   "language": "python",
   "name": "python3"
  },
  "language_info": {
   "codemirror_mode": {
    "name": "ipython",
    "version": 3
   },
   "file_extension": ".py",
   "mimetype": "text/x-python",
   "name": "python",
   "nbconvert_exporter": "python",
   "pygments_lexer": "ipython3",
   "version": "3.6.2"
  }
 },
 "nbformat": 4,
 "nbformat_minor": 2
}
