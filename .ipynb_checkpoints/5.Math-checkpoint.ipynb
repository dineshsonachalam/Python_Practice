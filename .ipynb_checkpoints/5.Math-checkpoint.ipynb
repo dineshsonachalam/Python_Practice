{
 "cells": [
  {
   "cell_type": "markdown",
   "metadata": {},
   "source": [
    "#### Complex number in python:\n",
    "                                Python code to convert no x and y into complex using function complex(x,y)."
   ]
  },
  {
   "cell_type": "code",
   "execution_count": 16,
   "metadata": {},
   "outputs": [
    {
     "name": "stdout",
     "output_type": "stream",
     "text": [
      "Real Part: 5.0\n",
      "Imaginary Part: 3.0\n"
     ]
    }
   ],
   "source": [
    "import cmath\n",
    "x = 5\n",
    "y = 3\n",
    "# Converting x and y into complex number\n",
    "z = complex(x,y)\n",
    "print(\"Real Part:\",z.real)\n",
    "print(\"Imaginary Part:\",z.imag)"
   ]
  },
  {
   "cell_type": "markdown",
   "metadata": {},
   "source": [
    "#### Phase of the complex number:\n",
    "                                   Angle between +ve real axis and the vector representing the complex no.\n",
    "- Phase returned using phase(), which takes complex no as argument.\n",
    "- Phase range from -pi to +pi i.e from -3.14 to +3.14\n"
   ]
  },
  {
   "cell_type": "code",
   "execution_count": 18,
   "metadata": {},
   "outputs": [
    {
     "name": "stdout",
     "output_type": "stream",
     "text": [
      "The phase of the complex no:3.141592653589793\n"
     ]
    }
   ],
   "source": [
    "import cmath\n",
    "x = -1.0\n",
    "y = 0.0\n",
    "z = complex(x,y)\n",
    "print(\"The phase of the complex no:\",end=\"\")\n",
    "print(cmath.phase(z))"
   ]
  },
  {
   "cell_type": "markdown",
   "metadata": {},
   "source": [
    "#### Converting from polar to rectangular form and vice versa"
   ]
  },
  {
   "cell_type": "code",
   "execution_count": 23,
   "metadata": {},
   "outputs": [
    {
     "name": "stdout",
     "output_type": "stream",
     "text": [
      "(1.4142135623730951, 0.7853981633974483)\n",
      "(1.0000000000000002+1.0000000000000002j)\n"
     ]
    }
   ],
   "source": [
    "import cmath\n",
    "import math\n",
    "\n",
    "x = 1.0\n",
    "y = 1.0\n",
    "\n",
    "# Converting x and y into complex no\n",
    "z = complex(x,y)\n",
    "# Converting complex no into polar using polar()\n",
    "\n",
    "w = cmath.polar(z)\n",
    "\n",
    "# Printing modulus and arg of polar complex no\n",
    "\n",
    "print(w) #  (1.4142135623730951, 0.7853981633974483)\n",
    "\n",
    "# Printing rectangular form of complex no\n",
    "\n",
    "w = cmath.rect(1.4142135623730951, 0.7853981633974483)\n",
    "print(w)\n",
    "\n"
   ]
  },
  {
   "cell_type": "code",
   "execution_count": 33,
   "metadata": {},
   "outputs": [
    {
     "name": "stdout",
     "output_type": "stream",
     "text": [
      "1+2j\n",
      "2.23606797749979\n",
      "1.1071487177940904\n"
     ]
    }
   ],
   "source": [
    "import cmath\n",
    "import math\n",
    "\n",
    "n = cmath.polar(complex(input()))\n",
    "# print(n)\n",
    "for i in n:\n",
    "    print(i)"
   ]
  },
  {
   "cell_type": "code",
   "execution_count": 34,
   "metadata": {},
   "outputs": [
    {
     "name": "stdout",
     "output_type": "stream",
     "text": [
      "177\n",
      "10\n",
      "17\n",
      "7\n",
      "(17, 7)\n"
     ]
    }
   ],
   "source": [
    "n = int(input())\n",
    "m = int(input())\n",
    "print(int((n/m)))\n",
    "print(int((n%m)))\n",
    "print(divmod(n,m))\n"
   ]
  }
 ],
 "metadata": {
  "kernelspec": {
   "display_name": "Python 3",
   "language": "python",
   "name": "python3"
  },
  "language_info": {
   "codemirror_mode": {
    "name": "ipython",
    "version": 3
   },
   "file_extension": ".py",
   "mimetype": "text/x-python",
   "name": "python",
   "nbconvert_exporter": "python",
   "pygments_lexer": "ipython3",
   "version": "3.6.2"
  }
 },
 "nbformat": 4,
 "nbformat_minor": 2
}
