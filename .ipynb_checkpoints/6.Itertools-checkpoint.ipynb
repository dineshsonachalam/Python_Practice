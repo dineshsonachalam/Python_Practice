{
 "cells": [
  {
   "cell_type": "code",
   "execution_count": 1,
   "metadata": {},
   "outputs": [
    {
     "name": "stdout",
     "output_type": "stream",
     "text": [
      "[(1, 1), (1, 2), (1, 3), (2, 1), (2, 2), (2, 3), (3, 1), (3, 2), (3, 3)]\n",
      "[(1, 3), (1, 4), (2, 3), (2, 4), (3, 3), (3, 4)]\n",
      "[(1, 3), (1, 4), (2, 3), (2, 4)]\n"
     ]
    }
   ],
   "source": [
    "# itertools\n",
    "\n",
    "from itertools import product\n",
    "print(list(product([1,2,3],repeat=2)))\n",
    "print(list(product([1,2,3],[3,4])))\n",
    "A = [[1,2],[3,4]]\n",
    "print(list(product(*A)))"
   ]
  },
  {
   "cell_type": "code",
   "execution_count": 6,
   "metadata": {},
   "outputs": [
    {
     "name": "stdout",
     "output_type": "stream",
     "text": [
      "<itertools.permutations object at 0x000002609568C7D8>\n",
      "[('1', '2', '3'), ('1', '3', '2'), ('2', '1', '3'), ('2', '3', '1'), ('3', '1', '2'), ('3', '2', '1')]\n",
      "[('1', '2'), ('1', '3'), ('2', '1'), ('2', '3'), ('3', '1'), ('3', '2')]\n",
      "[('a', 'b', 'c'), ('a', 'c', 'b'), ('b', 'a', 'c'), ('b', 'c', 'a'), ('c', 'a', 'b'), ('c', 'b', 'a')]\n"
     ]
    }
   ],
   "source": [
    "# itertools.permutations(iterable[, r])\n",
    "\n",
    "from itertools import permutations\n",
    "print(permutations(['1','2','3']))\n",
    "print(list(permutations(['1','2','3'])))\n",
    "print(list(permutations(['1','2','3'],2)))\n",
    "print(list(permutations('abc',3)))"
   ]
  },
  {
   "cell_type": "code",
   "execution_count": 10,
   "metadata": {},
   "outputs": [
    {
     "name": "stdout",
     "output_type": "stream",
     "text": [
      "HACK 2\n",
      "('A', 'A')\n",
      "('A', 'C')\n",
      "('A', 'H')\n",
      "('A', 'K')\n",
      "('C', 'C')\n",
      "('C', 'H')\n",
      "('C', 'K')\n",
      "('H', 'H')\n",
      "('H', 'K')\n",
      "('K', 'K')\n",
      "\n",
      "WITH USING JOIN\n",
      "AA\n",
      "AC\n",
      "AH\n",
      "AK\n",
      "CC\n",
      "CH\n",
      "CK\n",
      "HH\n",
      "HK\n",
      "KK\n"
     ]
    }
   ],
   "source": [
    "from itertools import combinations_with_replacement\n",
    "\n",
    "s , n  = input().split()\n",
    "\n",
    "p = list((combinations_with_replacement(sorted(s),int(n))))\n",
    "\n",
    "for  i in p:\n",
    "    print(i) # without using join\n",
    "    \n",
    "print(\"\\nWITH USING JOIN\")\n",
    "\n",
    "for  i in p:\n",
    "    print(''.join(i)) # without using join"
   ]
  },
  {
   "cell_type": "code",
   "execution_count": 13,
   "metadata": {},
   "outputs": [
    {
     "name": "stdout",
     "output_type": "stream",
     "text": [
      "[1, 2, 3, 4, 5]\n",
      "1 2 3 4 5\n"
     ]
    }
   ],
   "source": [
    "a = [1, 2, 3, 4, 5]\n",
    "print(a)\n",
    "print(*a)\n",
    "# * It allows you to pass each element of the list to the print function rather than the list itself."
   ]
  },
  {
   "cell_type": "code",
   "execution_count": 34,
   "metadata": {},
   "outputs": [
    {
     "ename": "AttributeError",
     "evalue": "'tuple' object has no attribute 'append'",
     "output_type": "error",
     "traceback": [
      "\u001b[1;31m---------------------------------------------------------------------------\u001b[0m",
      "\u001b[1;31mAttributeError\u001b[0m                            Traceback (most recent call last)",
      "\u001b[1;32m<ipython-input-34-92acc51a8b01>\u001b[0m in \u001b[0;36m<module>\u001b[1;34m()\u001b[0m\n\u001b[0;32m      1\u001b[0m \u001b[0mt\u001b[0m \u001b[1;33m=\u001b[0m \u001b[0mtuple\u001b[0m\u001b[1;33m(\u001b[0m\u001b[1;33m(\u001b[0m\u001b[1;36m1\u001b[0m\u001b[1;33m,\u001b[0m\u001b[1;36m2\u001b[0m\u001b[1;33m)\u001b[0m\u001b[1;33m)\u001b[0m\u001b[1;33m\u001b[0m\u001b[0m\n\u001b[1;32m----> 2\u001b[1;33m \u001b[0mt\u001b[0m\u001b[1;33m.\u001b[0m\u001b[0mappend\u001b[0m\u001b[1;33m(\u001b[0m\u001b[1;36m4\u001b[0m\u001b[1;33m)\u001b[0m\u001b[1;33m\u001b[0m\u001b[0m\n\u001b[0m\u001b[0;32m      3\u001b[0m \u001b[1;33m\u001b[0m\u001b[0m\n",
      "\u001b[1;31mAttributeError\u001b[0m: 'tuple' object has no attribute 'append'"
     ]
    }
   ],
   "source": [
    "t = tuple((1,2))\n",
    "t.append(4)\n"
   ]
  },
  {
   "cell_type": "code",
   "execution_count": 50,
   "metadata": {},
   "outputs": [
    {
     "name": "stdout",
     "output_type": "stream",
     "text": [
      "1222311\n",
      "(1, 1) (3, 2) (1, 3) (2, 1) "
     ]
    }
   ],
   "source": [
    "s = input() # 1222334\n",
    "e = s[0] # Element 1\n",
    "t = tuple()\n",
    "c = 0 # count\n",
    "for i in range(0,len(s)):\n",
    "    if(e==s[i]):\n",
    "        c+=1\n",
    "    if((i+1)<len(s)):\n",
    "        if(e!=s[i+1]):\n",
    "            temp = tuple((c,int(e)))\n",
    "            print(temp,end=\" \")\n",
    "            e = s[i+1]\n",
    "            c = 0\n",
    "    if((i+1)==len(s)):\n",
    "        temp = tuple((c,int(e)))\n",
    "        print(temp,end=\" \")\n",
    "        "
   ]
  }
 ],
 "metadata": {
  "kernelspec": {
   "display_name": "Python 3",
   "language": "python",
   "name": "python3"
  },
  "language_info": {
   "codemirror_mode": {
    "name": "ipython",
    "version": 3
   },
   "file_extension": ".py",
   "mimetype": "text/x-python",
   "name": "python",
   "nbconvert_exporter": "python",
   "pygments_lexer": "ipython3",
   "version": "3.6.2"
  }
 },
 "nbformat": 4,
 "nbformat_minor": 2
}
