{
 "cells": [
  {
   "cell_type": "markdown",
   "metadata": {},
   "source": [
    "### _init_ method:\n",
    "                   __init__ is the constructor of the class that is invoked when and object is being created.\n",
    "### self(reference variable):\n",
    "                    Self refers to the current object. It similar to 'this' keyword in java."
   ]
  },
  {
   "cell_type": "code",
   "execution_count": 43,
   "metadata": {},
   "outputs": [
    {
     "name": "stdout",
     "output_type": "stream",
     "text": [
      "Hell, my name is Dinesh\n"
     ]
    }
   ],
   "source": [
    "class Person:\n",
    "    def __init__(self,name):\n",
    "        self.name = name #self a reference variable refers to the current object\n",
    "    def sayHi(self):\n",
    "        print(\"Hell, my name is\",self.name)\n",
    "        \n",
    "p = Person('Dinesh')\n",
    "p.sayHi()\n",
    "    "
   ]
  },
  {
   "cell_type": "markdown",
   "metadata": {},
   "source": [
    "### What is if __name__ == “__main__” ??\n",
    "\n",
    "1. When we execute a python script. It is treated as main and its __name__ attribute is set to __main__.  [Running the script directly]\n",
    "2. If you import script as a module in another script,the __name__ is set name of script/module. [Using module with import]\n"
   ]
  },
  {
   "cell_type": "code",
   "execution_count": 46,
   "metadata": {},
   "outputs": [
    {
     "name": "stdout",
     "output_type": "stream",
     "text": [
      "Executing as main program\n",
      "Value of __name__is: __main__\n",
      "I am from __main__\n"
     ]
    }
   ],
   "source": [
    "f1 = 100\n",
    "def Hello():\n",
    "    print(\"I am from\",__name__)\n",
    "if __name__ ==\"__main__\":\n",
    "    print(\"Executing as main program\")\n",
    "    print(\"Value of __name__is:\",__name__)\n",
    "    Hello()"
   ]
  }
 ],
 "metadata": {
  "kernelspec": {
   "display_name": "Python 3",
   "language": "python",
   "name": "python3"
  },
  "language_info": {
   "codemirror_mode": {
    "name": "ipython",
    "version": 3
   },
   "file_extension": ".py",
   "mimetype": "text/x-python",
   "name": "python",
   "nbconvert_exporter": "python",
   "pygments_lexer": "ipython3",
   "version": "3.6.2"
  }
 },
 "nbformat": 4,
 "nbformat_minor": 2
}
