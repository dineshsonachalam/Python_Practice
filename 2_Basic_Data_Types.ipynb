{
 "cells": [
  {
   "cell_type": "code",
   "execution_count": null,
   "metadata": {},
   "outputs": [
    {
     "name": "stdout",
     "output_type": "stream",
     "text": [
      "1_Append:\n",
      "[1, 9, 4, 3, 78] \n",
      "\n",
      "2_Extend:\n",
      "[1, 9, 4, 3, 78, 10, 11] \n",
      "\n",
      "1_Insert:\n",
      "[1, 9, 4, 7, 3, 78, 10, 11] \n",
      "\n",
      "4_Remove:\n",
      "[1, 9, 4, 7, 78, 10, 11] \n",
      "\n",
      "5_Pop:\n",
      "[1, 9, 4, 7, 78, 10] \n",
      "\n",
      "6_Index:\n",
      "3 \n",
      "\n",
      "7_Count:\n",
      "1 \n",
      "\n",
      "8_Sort:\n",
      "[1, 4, 7, 9, 10, 78] \n",
      "\n",
      "9_reverse:\n",
      "[78, 10, 9, 7, 4, 1] \n",
      "\n"
     ]
    }
   ],
   "source": [
    "# 1_LIST\n",
    "\n",
    "# Initialization of a list\n",
    "arr = list() \n",
    "# or arr = [] \n",
    "\n",
    "# some of  the methods used in the list\n",
    "\n",
    "# 1_append ->adds single element at the end of the list\n",
    "print(\"1_Append:\")\n",
    "arr.append(1) \n",
    "arr.append(9)\n",
    "arr.append(4)\n",
    "arr.append(3)\n",
    "arr.append(78)\n",
    "print(arr,'\\n')\n",
    "# [1, 9, 4, 3, 78]\n",
    "\n",
    "# 2_extend ->merge another list(L) to end\n",
    "print(\"2_Extend:\")\n",
    "arr.extend([10,11])\n",
    "print(arr,'\\n')\n",
    "# [1, 9, 4, 3, 78, 10, 11]\n",
    "\n",
    "# 3_insert(i,x) -> insert 'x' at position 'i'\n",
    "print(\"1_Insert:\")\n",
    "arr.insert(3,7) \n",
    "print(arr,'\\n')\n",
    "\n",
    "# 4_remove(x) -> removes 1st occurence of element\n",
    "print(\"4_Remove:\")\n",
    "arr.remove(3)\n",
    "print(arr,'\\n')\n",
    "\n",
    "# 5_pop() -> removes the last element of the list\n",
    "print(\"5_Pop:\")\n",
    "arr.pop()\n",
    "print(arr,'\\n')\n",
    "\n",
    "# 6_index() -> returns first index of a value in the list\n",
    "print(\"6_Index:\")\n",
    "\n",
    "print(arr.index(7),'\\n')\n",
    "\n",
    "# 7_count()-> count no of occurence of the element\n",
    "print(\"7_Count:\")\n",
    "print(arr.count(78),'\\n')\n",
    "\n",
    "# 8_sort()->sort the list\n",
    "print(\"8_Sort:\")\n",
    "arr.sort()\n",
    "print(arr,'\\n')\n",
    "\n",
    "# 9_reverse()->reverse the element in the list\n",
    "print(\"9_reverse:\")\n",
    "arr.reverse()\n",
    "print(arr,'\\n')\n"
   ]
  },
  {
   "cell_type": "code",
   "execution_count": null,
   "metadata": {
    "collapsed": true
   },
   "outputs": [],
   "source": [
    "n = int(input())\n",
    "list_5 = [] # Creation of a empty list\n",
    "for i in range(0,n):\n",
    "    s = input().split() # Split by blank spaces\n",
    "    # It return a list of string\n",
    "    if(s[0]==\"insert\"):\n",
    "        list_5.insert(int(s[1]),int(s[2]))\n",
    "    elif(s[0]==\"print\"):\n",
    "        print(list_5)\n",
    "    elif(s[0]==\"remove\"):\n",
    "        list_5.remove(int(s[1])) # Remove the 1st occurence of element in the list\n",
    "    elif(s[0]==\"sort\"):\n",
    "        list_5.sort()\n",
    "    elif(s[0]==\"pop\"):\n",
    "        list_5.pop() # Pop the last element in the list\n",
    "    elif(s[0]==\"reverse\"):\n",
    "        list_5.reverse() # Reverse the list elements\n",
    "    elif(s[0]==\"append\"):\n",
    "        list_5.append(int(s[1])) # Add element to the end of the list"
   ]
  },
  {
   "cell_type": "code",
   "execution_count": null,
   "metadata": {
    "collapsed": true
   },
   "outputs": [],
   "source": [
    "# Tuple-> Once created cannot be changed. We cannot add,remove or assign values\n",
    "# Common tuple -> swapping of 2 nos\n",
    "tuple = () # Intialization of a tuple\n",
    "a = 10\n",
    "b = 5\n",
    "# now swapping\n",
    "a,b = b,a\n",
    "print(\"A->\",a,\":\",\"B->\",b)"
   ]
  },
  {
   "cell_type": "code",
   "execution_count": null,
   "metadata": {
    "collapsed": true
   },
   "outputs": [],
   "source": [
    "# Hash -> Fixed sized integer that identifies particular value\n",
    "# For same value you will get same hash even if its not from the same object\n",
    "\n",
    "hash(\"Look at me\")\n",
    "\n",
    "f = \"Look at me\"\n",
    "hash(f)"
   ]
  },
  {
   "cell_type": "code",
   "execution_count": null,
   "metadata": {
    "collapsed": true
   },
   "outputs": [],
   "source": [
    "n = int(input())\n",
    "# ['1','2'] contains a string list but we want integer list\n",
    "input_list = input().split()\n",
    "for i in range(0,n):\n",
    "    input_list[i] = int(input_list[i])\n",
    "# Now we have to convert our list into tuples of integer\n",
    "t = tuple(input_list)\n",
    "print(hash(t))"
   ]
  },
  {
   "cell_type": "markdown",
   "metadata": {},
   "source": [
    "### List Comprehension:\n",
    "\n",
    "Elegant way to build a list without having to use different for loops to append values one by one."
   ]
  },
  {
   "cell_type": "code",
   "execution_count": null,
   "metadata": {
    "collapsed": true
   },
   "outputs": [],
   "source": [
    "# Program to illustrate List Comprehension\n",
    "def cube(n):\n",
    "    return n**3 ## Here ** operator is used for exponentation\n",
    "\n",
    "# Creating a list containing 1..10\n",
    "Original_List = range(1,11)\n",
    "# Now we are printing the list\n",
    "print(\"Displaying the original List:\")\n",
    "for x in Original_List:\n",
    "    print(x)\n",
    "\n",
    "print(\"\\n\")\n",
    "# Generating cube for 1 to 5 numbers by for loop method\n",
    "print(\"Generating cube for 1 to 5 numbers by for loop method\")\n",
    "for i in Original_List:\n",
    "    print(cube(i))\n",
    "\n",
    "# Now let us generate list comprehensions to generate the cubes\n",
    "print(\"\\n\")\n",
    "print(\"Displaying cubes for list comprehension\")\n",
    "\n",
    "CubesUsingListComprehension = [cube(x) for x in Original_List]\n",
    "print(CubesUsingListComprehension)"
   ]
  },
  {
   "cell_type": "code",
   "execution_count": null,
   "metadata": {
    "collapsed": true
   },
   "outputs": [],
   "source": [
    "# Simplest form involving loop variable\n",
    "ListOfThreeMultiples = [x for x in range(1,11) if x%3==0]\n",
    "\n",
    "print(ListOfThreeMultiples)"
   ]
  },
  {
   "cell_type": "code",
   "execution_count": null,
   "metadata": {
    "collapsed": true
   },
   "outputs": [],
   "source": [
    "list_4 = []\n",
    "list_4.append([5,3,2])\n",
    "print(list_4)\n",
    "list.append([1,7,8])\n",
    "print(list_4)\n",
    "list.append([1,3,2])\n",
    "print(list_4)"
   ]
  },
  {
   "cell_type": "code",
   "execution_count": null,
   "metadata": {
    "collapsed": true
   },
   "outputs": [],
   "source": [
    "1 != 1 # Not Equal to operator in python"
   ]
  },
  {
   "cell_type": "code",
   "execution_count": null,
   "metadata": {
    "collapsed": true
   },
   "outputs": [],
   "source": [
    "## List Comprehensions\n",
    "\n",
    "# Let's learn about list comprehensions! You are given three integers X, Y and Z representing the dimensions of a cuboid along with an\n",
    "# integer N. You have to print a list of all possible coordinates given by (i, j, k) on a 3D grid where the sum of i + j + k  is not\n",
    "# equal to N. Here, 0 <= i <= X; 0 <= j <= Y; 0 <= k <= Z \n",
    "\n",
    "# Input Format\n",
    "# Four integers X, Y, Z and N each on four separate lines, respectively.\n",
    "\n",
    "# Constraints\n",
    "# Print the list in lexicographic increasing order.\n",
    "\n",
    "# Sample Input\n",
    "# 1\n",
    "# 1\n",
    "# 1\n",
    "# 2\n",
    "\n",
    "# Sample Output\n",
    "# [[0, 0, 0], [0, 0, 1], [0, 1, 0], [1, 0, 0], [1, 1, 1]]"
   ]
  },
  {
   "cell_type": "code",
   "execution_count": null,
   "metadata": {
    "collapsed": true
   },
   "outputs": [],
   "source": [
    "### Without using list comprehension\n",
    "\n",
    "if __name__ == \"__main__\":\n",
    "    x = int(input())\n",
    "    y = int(input())\n",
    "    z = int(input())\n",
    "    n = int(input())\n",
    "    list = [] #Now creation of an empty list\n",
    "    for i in range(0,x+1):\n",
    "        for j in range(0,y+1):\n",
    "            for k in range(0,z+1):\n",
    "                if(i+j+k != n):\n",
    "                    list_3.append([i,j,k])\n",
    "    print(list_3)\n",
    "    "
   ]
  },
  {
   "cell_type": "code",
   "execution_count": null,
   "metadata": {
    "collapsed": true
   },
   "outputs": [],
   "source": [
    "### Now with using list comprehension\n",
    "\n",
    "if __name__ == \"__main__\":\n",
    "    x = int(input())\n",
    "    y = int(input())\n",
    "    z = int(input())\n",
    "    n = int(input())\n",
    "   # list = [] #Now creation of an empty list\n",
    "    list_2 = [[i,j,k] for i in range(0,x+1) for j in range(0,y+1) for k in range(0,z+1) if(i+j+k != n)]\n",
    "    print(list_2)"
   ]
  },
  {
   "cell_type": "markdown",
   "metadata": {},
   "source": [
    "### Python Map\n",
    "\n",
    "map() function applies a given function of each item of iterable(list,tuple etc) and return list of results\n",
    "\n",
    "#### Syntax of Map:\n",
    "\n",
    "map(function,iterable)\n",
    "- function - Map each item of iterable to this function.\n",
    "- iterable - Iterable which is to be mapped.\n",
    "We can pass more than one iterable to the map() function\n",
    "\n",
    "#### Return value from map()\n",
    "- map() function applies to given function of each item\n",
    "- return value of map ->(map object) that can be passed to a list(),set() and so on"
   ]
  },
  {
   "cell_type": "code",
   "execution_count": 29,
   "metadata": {},
   "outputs": [
    {
     "name": "stdout",
     "output_type": "stream",
     "text": [
      "<map object at 0x00000298A0796F98>\n",
      "[1, 4, 9, 16, 25]\n"
     ]
    }
   ],
   "source": [
    "### How map works\n",
    "\n",
    "def square(n):\n",
    "    return n*n\n",
    "\n",
    "numbers = [1,2,3,4,5] #list\n",
    "result_1 = map(square,numbers) # here result is a map object\n",
    "# map(function,iterable)\n",
    "print(result_1) #<map object at 0x00000298A06A5D30>\n",
    "\n",
    "new_list = list(result_1)\n",
    "print(new_list)\n"
   ]
  },
  {
   "cell_type": "code",
   "execution_count": null,
   "metadata": {
    "collapsed": true
   },
   "outputs": [],
   "source": [
    "# You are given  numbers. Store them in a list and find the second largest number.\n",
    "\n",
    "# Input Format\n",
    "\n",
    "# The first line contains . The second line contains an array  of  integers each separated by a space.\n",
    "\n",
    "# Constraints\n",
    "\n",
    "# Output Format\n",
    "\n",
    "# Print the value of the second largest number.\n",
    "\n",
    "# Sample Input 0\n",
    "\n",
    "# 5\n",
    "# 2 3 6 6 5\n",
    "# Sample Output 0\n",
    "\n",
    "# 5\n",
    "# Explanation 0\n",
    "\n",
    "# Given list is . The maximum number is , second maximum is . Hence, we print  as our answer."
   ]
  },
  {
   "cell_type": "code",
   "execution_count": 19,
   "metadata": {},
   "outputs": [
    {
     "name": "stdout",
     "output_type": "stream",
     "text": [
      "3\n",
      "1 2 3\n",
      "[1, 2, 3]\n",
      "2\n"
     ]
    }
   ],
   "source": [
    "if __name__ == '__main__':\n",
    "    n = int(input())\n",
    "    arr = map(int,input().split()) # input().split() ->splits by blank spaces\n",
    "    # map(function,iterable)\n",
    "    list_1 =list(arr)\n",
    "    print(list_1)\n",
    "    z = max(list_1)\n",
    "    while max(list_1) == z:\n",
    "        list_1.remove(max(list_1))\n",
    "    print(max(list_1))"
   ]
  },
  {
   "cell_type": "code",
   "execution_count": 33,
   "metadata": {},
   "outputs": [
    {
     "name": "stdout",
     "output_type": "stream",
     "text": [
      "3\n",
      "['Black', 'White']\n",
      "Black\n"
     ]
    }
   ],
   "source": [
    "# NESTED LIST\n",
    "nested_list = [['Blue','Green'],['Black','White'],['Violet','Pink']]\n",
    "print(len(nested_list))\n",
    "print(nested_list[1])\n",
    "print(nested_list[1][0])"
   ]
  },
  {
   "cell_type": "code",
   "execution_count": null,
   "metadata": {
    "collapsed": true
   },
   "outputs": [],
   "source": [
    "\n",
    "if __name__ == '__main__':\n",
    "   n = int(input())\n",
    "   list=[] # creation of an empty list\n",
    "   for i in range(0,n):\n",
    "       list.append([input(),float(input())])\n",
    "   print(list)\n",
    "   list.sort(axis = 1)\n",
    "   print(list)"
   ]
  },
  {
   "cell_type": "code",
   "execution_count": 3,
   "metadata": {},
   "outputs": [
    {
     "data": {
      "text/plain": [
       "15.12"
      ]
     },
     "execution_count": 3,
     "metadata": {},
     "output_type": "execute_result"
    }
   ],
   "source": [
    "round(15.121212,2) #rounding two decimal places"
   ]
  },
  {
   "cell_type": "code",
   "execution_count": null,
   "metadata": {},
   "outputs": [
    {
     "name": "stdout",
     "output_type": "stream",
     "text": [
      "3\n"
     ]
    }
   ],
   "source": [
    "if __name__ == \"__main__\":\n",
    "    n = int(input())\n",
    "    std_marks = {}\n",
    "    for i in range(0,n):\n",
    "        s = input().split() #We are splitting the input by blank spaces\n",
    "        z = (float(s[1]) + float(s[2]) + float(s[3]) )/float(3)\n",
    "        std_marks[s[0]] = round(z,2) #round the float value by 2 decimal places\n",
    "    m = input()\n",
    "    print(std_marks[m])"
   ]
  }
 ],
 "metadata": {
  "kernelspec": {
   "display_name": "Python 3",
   "language": "python",
   "name": "python3"
  },
  "language_info": {
   "codemirror_mode": {
    "name": "ipython",
    "version": 3
   },
   "file_extension": ".py",
   "mimetype": "text/x-python",
   "name": "python",
   "nbconvert_exporter": "python",
   "pygments_lexer": "ipython3",
   "version": "3.6.2"
  }
 },
 "nbformat": 4,
 "nbformat_minor": 2
}
