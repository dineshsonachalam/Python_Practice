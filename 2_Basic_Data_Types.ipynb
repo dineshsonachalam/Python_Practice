{
 "cells": [
  {
   "cell_type": "code",
   "execution_count": 1,
   "metadata": {},
   "outputs": [
    {
     "name": "stdout",
     "output_type": "stream",
     "text": [
      "1_Append:\n",
      "[1, 9, 4, 3, 78] \n",
      "\n",
      "2_Extend:\n",
      "[1, 9, 4, 3, 78, 10, 11] \n",
      "\n",
      "1_Insert:\n",
      "[1, 9, 4, 7, 3, 78, 10, 11] \n",
      "\n",
      "4_Remove:\n",
      "[1, 9, 4, 7, 78, 10, 11] \n",
      "\n",
      "5_Pop:\n",
      "[1, 9, 4, 7, 78, 10] \n",
      "\n",
      "6_Index:\n",
      "3 \n",
      "\n",
      "7_Count:\n",
      "1 \n",
      "\n",
      "8_Sort:\n",
      "[1, 4, 7, 9, 10, 78] \n",
      "\n",
      "9_reverse:\n",
      "[78, 10, 9, 7, 4, 1] \n",
      "\n"
     ]
    }
   ],
   "source": [
    "# 1_LIST\n",
    "\n",
    "# Initialization of a list\n",
    "arr = list() \n",
    "# or arr = [] \n",
    "\n",
    "# some of  the methods used in the list\n",
    "\n",
    "# 1_append ->adds single element at the end of the list\n",
    "print(\"1_Append:\")\n",
    "arr.append(1) \n",
    "arr.append(9)\n",
    "arr.append(4)\n",
    "arr.append(3)\n",
    "arr.append(78)\n",
    "print(arr,'\\n')\n",
    "# [1, 9, 4, 3, 78]\n",
    "\n",
    "# 2_extend ->merge another list(L) to end\n",
    "print(\"2_Extend:\")\n",
    "arr.extend([10,11])\n",
    "print(arr,'\\n')\n",
    "# [1, 9, 4, 3, 78, 10, 11]\n",
    "\n",
    "# 3_insert(i,x) -> insert 'x' at position 'i'\n",
    "print(\"1_Insert:\")\n",
    "arr.insert(3,7) \n",
    "print(arr,'\\n')\n",
    "\n",
    "# 4_remove(x) -> removes 1st occurence of element\n",
    "print(\"4_Remove:\")\n",
    "arr.remove(3)\n",
    "print(arr,'\\n')\n",
    "\n",
    "# 5_pop() -> removes the last element of the list\n",
    "print(\"5_Pop:\")\n",
    "arr.pop()\n",
    "print(arr,'\\n')\n",
    "\n",
    "# 6_index() -> returns first index of a value in the list\n",
    "print(\"6_Index:\")\n",
    "\n",
    "print(arr.index(7),'\\n')\n",
    "\n",
    "# 7_count()-> count no of occurence of the element\n",
    "print(\"7_Count:\")\n",
    "print(arr.count(78),'\\n')\n",
    "\n",
    "# 8_sort()->sort the list\n",
    "print(\"8_Sort:\")\n",
    "arr.sort()\n",
    "print(arr,'\\n')\n",
    "\n",
    "# 9_reverse()->reverse the element in the list\n",
    "print(\"9_reverse:\")\n",
    "arr.reverse()\n",
    "print(arr,'\\n')\n"
   ]
  },
  {
   "cell_type": "code",
   "execution_count": 91,
   "metadata": {},
   "outputs": [
    {
     "name": "stdout",
     "output_type": "stream",
     "text": [
      "12\n",
      "insert 0 5\n",
      "insert 1 10\n",
      "insert 0 6\n",
      "print\n",
      "[6, 5, 10]\n",
      "remove 6\n",
      "append 9\n",
      "append 1\n",
      "sort \n",
      "print\n",
      "[1, 5, 9, 10]\n",
      "pop\n",
      "reverse\n",
      "print\n",
      "[9, 5, 1]\n"
     ]
    }
   ],
   "source": [
    "n = int(input())\n",
    "list = [] # Creation of a empty list\n",
    "for i in range(0,n):\n",
    "    s = input().split() # Split by blank spaces\n",
    "    # It return a list of string\n",
    "    if(s[0]==\"insert\"):\n",
    "        list.insert(int(s[1]),int(s[2]))\n",
    "    elif(s[0]==\"print\"):\n",
    "        print(list)\n",
    "    elif(s[0]==\"remove\"):\n",
    "        list.remove(int(s[1])) # Remove the 1st occurence of element in the list\n",
    "    elif(s[0]==\"sort\"):\n",
    "        list.sort()\n",
    "    elif(s[0]==\"pop\"):\n",
    "        list.pop() # Pop the last element in the list\n",
    "    elif(s[0]==\"reverse\"):\n",
    "        list.reverse() # Reverse the list elements\n",
    "    elif(s[0]==\"append\"):\n",
    "        list.append(int(s[1])) # Add element to the end of the list"
   ]
  },
  {
   "cell_type": "code",
   "execution_count": 4,
   "metadata": {},
   "outputs": [
    {
     "name": "stdout",
     "output_type": "stream",
     "text": [
      "A-> 5 : B-> 10\n"
     ]
    }
   ],
   "source": [
    "# Tuple-> Once created cannot be changed. We cannot add,remove or assign values\n",
    "# Common tuple -> swapping of 2 nos\n",
    "tuple = () # Intialization of a tuple\n",
    "a = 10\n",
    "b = 5\n",
    "# now swapping\n",
    "a,b = b,a\n",
    "print(\"A->\",a,\":\",\"B->\",b)"
   ]
  },
  {
   "cell_type": "code",
   "execution_count": 20,
   "metadata": {},
   "outputs": [
    {
     "data": {
      "text/plain": [
       "-5796997324715623438"
      ]
     },
     "execution_count": 20,
     "metadata": {},
     "output_type": "execute_result"
    }
   ],
   "source": [
    "# Hash -> Fixed sized integer that identifies particular value\n",
    "# For same value you will get same hash even if its not from the same object\n",
    "\n",
    "hash(\"Look at me\")\n",
    "\n",
    "f = \"Look at me\"\n",
    "hash(f)"
   ]
  },
  {
   "cell_type": "code",
   "execution_count": 1,
   "metadata": {},
   "outputs": [
    {
     "name": "stdout",
     "output_type": "stream",
     "text": [
      "2\n",
      "1 2\n",
      "3713081631934410656\n"
     ]
    }
   ],
   "source": [
    "n = int(input())\n",
    "# ['1','2'] contains a string list but we want integer list\n",
    "input_list = input().split()\n",
    "for i in range(0,n):\n",
    "    input_list[i] = int(input_list[i])\n",
    "# Now we have to convert our list into tuples of integer\n",
    "t = tuple(input_list)\n",
    "print(hash(t))"
   ]
  },
  {
   "cell_type": "code",
   "execution_count": 2,
   "metadata": {},
   "outputs": [
    {
     "name": "stdout",
     "output_type": "stream",
     "text": [
      "Hello World\n"
     ]
    }
   ],
   "source": [
    "print(\"Hello World\")\n"
   ]
  }
 ],
 "metadata": {
  "kernelspec": {
   "display_name": "Python 3",
   "language": "python",
   "name": "python3"
  },
  "language_info": {
   "codemirror_mode": {
    "name": "ipython",
    "version": 3
   },
   "file_extension": ".py",
   "mimetype": "text/x-python",
   "name": "python",
   "nbconvert_exporter": "python",
   "pygments_lexer": "ipython3",
   "version": "3.6.2"
  }
 },
 "nbformat": 4,
 "nbformat_minor": 2
}
