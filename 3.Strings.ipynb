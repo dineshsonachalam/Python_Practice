{
 "cells": [
  {
   "cell_type": "code",
   "execution_count": 2,
   "metadata": {},
   "outputs": [
    {
     "name": "stdout",
     "output_type": "stream",
     "text": [
      "Never give up on your dreams!\n",
      "Never-give-up-on-your-dreams!\n"
     ]
    }
   ],
   "source": [
    "# String split and join\n",
    "def split_and_join(line):\n",
    "    line = line.split() #split by blank spaces\n",
    "    #Now join the string by a delimeter '-'\n",
    "    line = '-'.join(line)\n",
    "    return line\n",
    "    \n",
    "if __name__ == \"__main__\":\n",
    "    line = input()\n",
    "    result = split_and_join(line)\n",
    "    print(result)"
   ]
  },
  {
   "cell_type": "code",
   "execution_count": 3,
   "metadata": {},
   "outputs": [
    {
     "name": "stdout",
     "output_type": "stream",
     "text": [
      "dinesh\n",
      "sonachalam\n",
      "Hello dinesh sonachalam ! You just delieved into python\n"
     ]
    }
   ],
   "source": [
    "a = input()\n",
    "b = input()\n",
    "print(\"Hello %s %s ! You just delieved into python\"%(a,b))"
   ]
  },
  {
   "cell_type": "code",
   "execution_count": 5,
   "metadata": {},
   "outputs": [
    {
     "name": "stdout",
     "output_type": "stream",
     "text": [
      "Python\n",
      "P\n",
      "y\n",
      "t\n",
      "h\n",
      "o\n",
      "n\n"
     ]
    }
   ],
   "source": [
    "s = input() # string input\n",
    "# Traversing the string character line by line\n",
    "for i in range(0,len(s)):\n",
    "    print(s[i])"
   ]
  },
  {
   "cell_type": "markdown",
   "metadata": {},
   "source": [
    "##### strip() :\n",
    "            Removes all whitespaces from the beginning and the end of the string."
   ]
  },
  {
   "cell_type": "code",
   "execution_count": 8,
   "metadata": {},
   "outputs": [
    {
     "name": "stdout",
     "output_type": "stream",
     "text": [
      "b\n"
     ]
    },
    {
     "ename": "TypeError",
     "evalue": "'str' object does not support item assignment",
     "output_type": "error",
     "traceback": [
      "\u001b[1;31m---------------------------------------------------------------------------\u001b[0m",
      "\u001b[1;31mTypeError\u001b[0m                                 Traceback (most recent call last)",
      "\u001b[1;32m<ipython-input-8-8da3c2af84ac>\u001b[0m in \u001b[0;36m<module>\u001b[1;34m()\u001b[0m\n\u001b[0;32m      2\u001b[0m \u001b[0ms\u001b[0m \u001b[1;33m=\u001b[0m \u001b[1;34m\"abc\"\u001b[0m\u001b[1;33m\u001b[0m\u001b[0m\n\u001b[0;32m      3\u001b[0m \u001b[0mprint\u001b[0m\u001b[1;33m(\u001b[0m\u001b[0ms\u001b[0m\u001b[1;33m[\u001b[0m\u001b[1;36m1\u001b[0m\u001b[1;33m]\u001b[0m\u001b[1;33m)\u001b[0m\u001b[1;33m\u001b[0m\u001b[0m\n\u001b[1;32m----> 4\u001b[1;33m \u001b[0ms\u001b[0m\u001b[1;33m[\u001b[0m\u001b[1;36m1\u001b[0m\u001b[1;33m]\u001b[0m \u001b[1;33m=\u001b[0m \u001b[1;34m'k'\u001b[0m\u001b[1;33m\u001b[0m\u001b[0m\n\u001b[0m",
      "\u001b[1;31mTypeError\u001b[0m: 'str' object does not support item assignment"
     ]
    }
   ],
   "source": [
    "# String are immutable that is they cannot be changed\n",
    "s = \"abc\"\n",
    "print(s[1])\n",
    "s[1] = 'k' # will throw an error "
   ]
  },
  {
   "cell_type": "code",
   "execution_count": 10,
   "metadata": {},
   "outputs": [
    {
     "name": "stdout",
     "output_type": "stream",
     "text": [
      "abc\n",
      "akc\n"
     ]
    }
   ],
   "source": [
    "# String can be converted only when converted into list\n",
    "s = \"abc\"\n",
    "print(s)\n",
    "list_l = list(s)\n",
    "list_l[1] ='k'\n",
    "s = ''.join(list_l) # joining the list into the string without blank spaces\n",
    "\n",
    "print(s)"
   ]
  },
  {
   "cell_type": "markdown",
   "metadata": {},
   "source": [
    "### textwrap:\n",
    "It contains 2 modules\n",
    "- textwrap.wrap() -> wraps single para in text(string) so every line is width char long at most.\n",
    "- textwrap.fill() -> wraps single char in text and returns singel string containing wrapped paragraph.\n"
   ]
  },
  {
   "cell_type": "code",
   "execution_count": 2,
   "metadata": {},
   "outputs": [
    {
     "name": "stdout",
     "output_type": "stream",
     "text": [
      "['This is', 'a very', 'long', 'string', 'that', 'cannot', 'be fixed', 'in a par', 'agraph!']\n",
      "This is\n",
      "a very\n",
      "long\n",
      "string\n",
      "that\n",
      "cannot\n",
      "be fixed\n",
      "in a par\n",
      "agraph!\n"
     ]
    }
   ],
   "source": [
    "import textwrap\n",
    "string = \"This is a very long string that cannot be fixed in a paragraph!\"\n",
    "print(textwrap.wrap(string,8))\n",
    "print(textwrap.fill(string,8))"
   ]
  },
  {
   "cell_type": "code",
   "execution_count": 4,
   "metadata": {},
   "outputs": [
    {
     "name": "stdout",
     "output_type": "stream",
     "text": [
      "7 21\n",
      "---------.|.---------\n",
      "------.|..|..|.------\n",
      "---.|..|..|..|..|.---\n",
      "-------WELCOME-------\n",
      "---.|..|..|..|..|.---\n",
      "------.|..|..|.------\n",
      "---------.|.---------\n"
     ]
    }
   ],
   "source": [
    "N, M = map(int,input().split())\n",
    "for i in range(1,N,2): \n",
    "    print((i * \".|.\").center(M, \"-\"))\n",
    "print(\"WELCOME\".center(M,\"-\"))\n",
    "for i in range(N-2,-1,-2): \n",
    "    print((i * \".|.\").center(M, \"-\"))"
   ]
  },
  {
   "cell_type": "code",
   "execution_count": 19,
   "metadata": {},
   "outputs": [
    {
     "name": "stdout",
     "output_type": "stream",
     "text": [
      "17\n",
      "     1     o1      1      1\n",
      "     2     o2      2     10\n",
      "     3     o3      3     11\n",
      "     4     o4      4    100\n",
      "     5     o5      5    101\n",
      "     6     o6      6    110\n",
      "     7     o7      7    111\n",
      "     8     o1      8   1000\n",
      "     9    o11      9   1001\n",
      "    10    o12      A   1010\n",
      "    11    o13      B   1011\n",
      "    12    o14      C   1100\n",
      "    13    o15      D   1101\n",
      "    14    o16      E   1110\n",
      "    15    o17      F   1111\n",
      "    16     o2     10  10000\n",
      "    17    o21     11  10001\n"
     ]
    }
   ],
   "source": [
    "# String formatting\n",
    "input_1 = int(input())\n",
    "w = len(str(bin(input_1)).replace('0b',' ') )\n",
    "\n",
    "for i in range(1,input_1+1):\n",
    "    b = bin(int(i)).replace('0b','').rjust(w,' ')\n",
    "    o = oct(int(i)).replace('0','').rjust(w,' ')\n",
    "    h = hex(int(i)).replace('0x','').upper().rjust(w,' ')\n",
    "    j = str(i).rjust(w,' ')\n",
    "    print(j,o,h,b)"
   ]
  },
  {
   "cell_type": "code",
   "execution_count": 123,
   "metadata": {},
   "outputs": [
    {
     "name": "stdout",
     "output_type": "stream",
     "text": [
      "5 \n",
      "5 4 5 \n",
      "5 4 3 4 5 \n",
      "5 4 3 2 3 4 5 \n",
      "5 4 3 2 1 2 3 4 5 \n",
      "5 4 3 2 3 4 5 \n",
      "5 4 3 4 5 \n",
      "5 4 5 \n",
      "5 \n"
     ]
    }
   ],
   "source": [
    "size = 5\n",
    "temp1 = size - 1\n",
    "\n",
    "# Original image\n",
    "for y in range(0,size,1):\n",
    "    for i in range(size,temp1,-1):\n",
    "        print(i,\"\",end=\"\") #Left\n",
    "\n",
    "    z = temp1 + 1 #right\n",
    "    for i in range(z,size,1):\n",
    "        z = z + 1\n",
    "        print(z,\"\",end=\"\")\n",
    "    temp1 = temp1 - 1\n",
    "    print(\"\")\n",
    "    \n",
    "# print(\"Temp:\",temp1)\n",
    "    \n",
    "# Reflection image\n",
    "\n",
    "temp1 = 1\n",
    "for y in range(size-1,0,-1):\n",
    "    for i in range(size,temp1,-1):\n",
    "        print(i,\"\",end=\"\") # left\n",
    "    z = temp1 + 2;\n",
    "    for i in range(z,size+1,1):\n",
    "        print(i,\"\",end=\"\") # Right\n",
    "    \n",
    "    temp1  = temp1+1\n",
    "    print()\n",
    "    \n",
    "    \n"
   ]
  },
  {
   "cell_type": "code",
   "execution_count": 114,
   "metadata": {},
   "outputs": [
    {
     "data": {
      "text/plain": [
       "'e'"
      ]
     },
     "execution_count": 114,
     "metadata": {},
     "output_type": "execute_result"
    }
   ],
   "source": [
    "chr(96 + 5)\n"
   ]
  },
  {
   "cell_type": "code",
   "execution_count": 132,
   "metadata": {},
   "outputs": [
    {
     "name": "stdout",
     "output_type": "stream",
     "text": [
      "--------e --------\n",
      "------e d e ------\n",
      "----e d c d e ----\n",
      "--e d c b c d e --\n",
      "e d c b a b c d e \n",
      "--e d c b c d e --\n",
      "----e d c d e ----\n",
      "------e d e ------\n",
      "--------e --------\n"
     ]
    }
   ],
   "source": [
    "\n",
    "size = 5\n",
    "temp1 = size - 1\n",
    "space = temp1*2\n",
    "\n",
    "# Original image\n",
    "for y in range(0,size,1):\n",
    "    \n",
    "    ## FRONT SPACE\n",
    "    for j in range(0,space,1):\n",
    "        print(\"-\",end=\"\")\n",
    "    \n",
    "    for i in range(size,temp1,-1):\n",
    "        print(chr(i+96),\"\",end=\"\") #Left\n",
    "\n",
    "    z = temp1 + 1 #right\n",
    "    for i in range(z,size,1):\n",
    "        z = z + 1\n",
    "        print(chr(z+96),\"\",end=\"\")\n",
    "    temp1 = temp1 - 1\n",
    "    \n",
    "      ## BACK SPACE\n",
    "    for j in range(0,space,1):\n",
    "        print(\"-\",end=\"\")\n",
    "    space = space - 2\n",
    "    \n",
    "    print(\"\")\n",
    "    \n",
    "# Reflection image\n",
    "temp1 = 1\n",
    "space = 2\n",
    "for y in range(size-1,0,-1):\n",
    "    \n",
    "       ## FRONT SPACE\n",
    "    for j in range(0,space,1):\n",
    "        print(\"-\",end=\"\")\n",
    "        \n",
    "    \n",
    "    for i in range(size,temp1,-1):\n",
    "        print(chr(i+96),\"\",end=\"\") # left\n",
    "    z = temp1 + 2;\n",
    "    for i in range(z,size+1,1):\n",
    "        print(chr(i+96),\"\",end=\"\") # Right\n",
    "    \n",
    "    temp1  = temp1+1\n",
    "    \n",
    "     ## BACK SPACE\n",
    "    for j in range(0,space,1):\n",
    "        print(\"-\",end=\"\")\n",
    "    space = space + 2\n",
    "    \n",
    "    print()\n",
    "    \n",
    "    \n"
   ]
  },
  {
   "cell_type": "code",
   "execution_count": 45,
   "metadata": {},
   "outputs": [
    {
     "name": "stdout",
     "output_type": "stream",
     "text": [
      "--------e--------\n",
      "------e d e------\n",
      "----e d c d e----\n",
      "--e d c b c d e--\n",
      "e d c b a b c d e\n",
      "--e d c b c d e--\n",
      "----e d c d e----\n",
      "------e d e------\n",
      "--------e--------\n"
     ]
    }
   ],
   "source": [
    "\n",
    "size = 5\n",
    "temp1 = size - 1\n",
    "space = temp1*2\n",
    "\n",
    "# Original image\n",
    "for y in range(0,size,1):\n",
    "    \n",
    "    ## FRONT SPACE\n",
    "    for j in range(0,space,1):\n",
    "        print(\"-\",end=\"\")\n",
    "    \n",
    "    for i in range(size,temp1,-1):\n",
    "        print(chr(i+96),end=\"\") #Left\n",
    "        if(y!=0):\n",
    "            print(\" \",end=\"\")\n",
    "            \n",
    "\n",
    "    z = temp1 + 1 #right\n",
    "    for i in range(z,size,1):\n",
    "        z = z + 1\n",
    "        print(chr(z+96),end=\"\")\n",
    "        if(z+1<=size):\n",
    "            print(\" \",end=\"\")\n",
    "       \n",
    "    temp1 = temp1 - 1\n",
    "    \n",
    "      ## BACK SPACE\n",
    "    for j in range(0,space,1):\n",
    "        print(\"-\",end=\"\")\n",
    "    space = space - 2\n",
    "    \n",
    "    print(\"\")\n",
    "    \n",
    "    \n",
    "# Reflection image\n",
    "temp1 = 1\n",
    "space = 2\n",
    "for y in range(size-1,0,-1):\n",
    "    \n",
    "       ## FRONT SPACE\n",
    "    for j in range(0,space,1):\n",
    "        print(\"-\",end=\"\")\n",
    "        \n",
    "    \n",
    "    for i in range(size,temp1,-1):\n",
    "        print(chr(i+96),end=\"\") # left\n",
    "        if(y!=1):\n",
    "            print(\" \",end=\"\")\n",
    "            \n",
    "    z = temp1 + 2;\n",
    "    for i in range(z,size+1,1):\n",
    "        \n",
    "        print(chr(i+96),end=\"\") # Right\n",
    "        if(i+1<size+1):\n",
    "            print(\" \",end=\"\")\n",
    "       \n",
    "    \n",
    "    temp1  = temp1+1\n",
    "    \n",
    "     ## BACK SPACE\n",
    "    for j in range(0,space,1):\n",
    "        print(\"-\",end=\"\")\n",
    "    space = space + 2\n",
    "    \n",
    "    print()\n",
    "\n",
    "    \n",
    "    \n",
    "    \n"
   ]
  },
  {
   "cell_type": "code",
   "execution_count": 49,
   "metadata": {},
   "outputs": [
    {
     "name": "stdout",
     "output_type": "stream",
     "text": [
      "hello world\n",
      "['hello', 'world']\n"
     ]
    },
    {
     "ename": "TypeError",
     "evalue": "list indices must be integers or slices, not str",
     "output_type": "error",
     "traceback": [
      "\u001b[1;31m---------------------------------------------------------------------------\u001b[0m",
      "\u001b[1;31mTypeError\u001b[0m                                 Traceback (most recent call last)",
      "\u001b[1;32m<ipython-input-49-f361207a79af>\u001b[0m in \u001b[0;36m<module>\u001b[1;34m()\u001b[0m\n\u001b[0;32m      2\u001b[0m \u001b[0mprint\u001b[0m\u001b[1;33m(\u001b[0m\u001b[0ms\u001b[0m\u001b[1;33m)\u001b[0m\u001b[1;33m\u001b[0m\u001b[0m\n\u001b[0;32m      3\u001b[0m \u001b[1;32mfor\u001b[0m \u001b[0mi\u001b[0m \u001b[1;32min\u001b[0m \u001b[0ms\u001b[0m\u001b[1;33m:\u001b[0m\u001b[1;33m\u001b[0m\u001b[0m\n\u001b[1;32m----> 4\u001b[1;33m     \u001b[1;32mfor\u001b[0m \u001b[0mj\u001b[0m \u001b[1;32min\u001b[0m \u001b[0mrange\u001b[0m\u001b[1;33m(\u001b[0m\u001b[1;36m0\u001b[0m\u001b[1;33m,\u001b[0m\u001b[0mlen\u001b[0m\u001b[1;33m(\u001b[0m\u001b[0ms\u001b[0m\u001b[1;33m[\u001b[0m\u001b[0mi\u001b[0m\u001b[1;33m]\u001b[0m\u001b[1;33m)\u001b[0m\u001b[1;33m)\u001b[0m\u001b[1;33m:\u001b[0m\u001b[1;33m\u001b[0m\u001b[0m\n\u001b[0m\u001b[0;32m      5\u001b[0m         \u001b[0mprint\u001b[0m\u001b[1;33m(\u001b[0m\u001b[0mj\u001b[0m\u001b[1;33m)\u001b[0m\u001b[1;33m\u001b[0m\u001b[0m\n",
      "\u001b[1;31mTypeError\u001b[0m: list indices must be integers or slices, not str"
     ]
    }
   ],
   "source": [
    "s = input().split()\n",
    "print(s)\n",
    "for i in s:\n",
    "    for j in range(0,len(s[i])):\n",
    "        print()"
   ]
  },
  {
   "cell_type": "code",
   "execution_count": 51,
   "metadata": {},
   "outputs": [
    {
     "name": "stdout",
     "output_type": "stream",
     "text": [
      "dinesh sonachalam\n",
      "Dinesh Sonachalam\n"
     ]
    }
   ],
   "source": [
    "s = input()\n",
    "for x in s[:].split():  # here s[:]->copy of the whole array\n",
    "    s = s.replace(x, x.capitalize())\n",
    "print(s)"
   ]
  },
  {
   "cell_type": "markdown",
   "metadata": {},
   "source": [
    "### Python slice notation:\n",
    "\n",
    "- a[start:end] -> Item starts throught the end -1.\n",
    "- a[start:] -> Item starts through rest of the array.\n",
    "- a[:end] -> Item from beginning through the end -1.\n",
    "- a[:] -> A copy of the whole array."
   ]
  },
  {
   "cell_type": "code",
   "execution_count": 7,
   "metadata": {},
   "outputs": [
    {
     "name": "stdout",
     "output_type": "stream",
     "text": [
      "1. a[start:end]:\n",
      "0  1  2  3  4  5  6  \n",
      "\n",
      "2. a[start:]:\n",
      "2  3  4  5  6  7  \n",
      "\n",
      "3. a[:end]:\n",
      "0  1  2  3  4  \n",
      "\n",
      "4. a[:]:\n",
      "0  1  2  3  4  5  6  7  "
     ]
    }
   ],
   "source": [
    "a = [0,1,2,3,4,5,6,7]\n",
    "# a[start:end]\n",
    "\n",
    "print(\"1. a[start:end]:\")\n",
    "for i in a[0:7]:\n",
    "    print(a[i],\" \",end=\"\")\n",
    "print(\"\")\n",
    "print(\"\\n2. a[start:]:\")\n",
    "for  i in a[2:]:\n",
    "    print(a[i],\" \",end=\"\")\n",
    "\n",
    "print(\"\")\n",
    "print(\"\\n3. a[:end]:\")\n",
    "for i in a[:5]:\n",
    "    print(a[i],\" \",end=\"\")\n",
    "    \n",
    "print(\"\")\n",
    "print(\"\\n4. a[:]:\")\n",
    "for i in a[:]:\n",
    "    print(a[i],\" \",end=\"\")"
   ]
  },
  {
   "cell_type": "markdown",
   "metadata": {},
   "source": [
    "### Minion Game:\n",
    "\n",
    "Kevin and Stuart want to play the 'The Minion Game'.\n",
    "\n",
    "Game Rules\n",
    "\n",
    "Both players are given the same string, .\n",
    "Both players have to make substrings using the letters of the string .\n",
    "Stuart has to make words starting with consonants.\n",
    "Kevin has to make words starting with vowels. \n",
    "The game ends when both players have made all possible substrings. \n",
    "\n",
    "Scoring\n",
    "A player gets +1 point for each occurrence of the substring in the string .\n",
    "\n",
    "For Example:\n",
    "String  = BANANA\n",
    "Kevin's vowel beginning word = ANA\n",
    "Here, ANA occurs twice in BANANA. Hence, Kevin will get 2 Points. \n",
    "\n",
    "For better understanding, see the image below: \n",
    "\n",
    "banana.png\n",
    "\n",
    "Your task is to determine the winner of the game and their score.\n",
    "\n",
    "Input Format\n",
    "\n",
    "A single line of input containing the string . \n",
    "Note: The string  will contain only uppercase letters: .\n",
    "\n",
    "Constraints\n",
    "\n",
    "\n",
    "\n",
    "Output Format\n",
    "\n",
    "Print one line: the name of the winner and their score separated by a space.\n",
    "\n",
    "If the game is a draw, print Draw.\n",
    "\n",
    "Sample Input\n",
    "\n",
    "BANANA\n",
    "Sample Output\n",
    "\n",
    "Stuart 12\n",
    "Note : \n",
    "Vowels are only defined as . In this problem,  is not considered a vowel."
   ]
  },
  {
   "cell_type": "markdown",
   "metadata": {},
   "source": [
    "#### Basic approach: O(N) solution\n",
    "\n",
    "String =\"BANANA\"  \n",
    "Length = 6\n",
    "\n",
    "The substring for \"BANANA\" string is:\n",
    "\n",
    "    B\n",
    "    BA\n",
    "    BAN\n",
    "    BANA\n",
    "    BANAN\n",
    "    BANANA\n",
    "\n",
    "    A\n",
    "    AN\n",
    "    ANA\n",
    "    ANAN\n",
    "    ANANA\n",
    "\n",
    "    N\n",
    "    NA\n",
    "    NAN\n",
    "    NANA\n",
    "\n",
    "    A\n",
    "    AN\n",
    "    ANA\n",
    "\n",
    "    N\n",
    "    NA\n",
    "\n",
    "    A\n",
    "\n",
    "\n",
    "###### Summarizing:\n",
    "\n",
    "Total words starting with B : 6\n",
    "Total words starting with A : 9\n",
    "Total words starting with N : 6\n",
    "\n",
    "Therefore,\n",
    "\n",
    "- Total consonant words: 12\n",
    "- Total vowel words : 9"
   ]
  },
  {
   "cell_type": "code",
   "execution_count": 28,
   "metadata": {},
   "outputs": [
    {
     "name": "stdout",
     "output_type": "stream",
     "text": [
      "BANANA\n",
      "Stuart 12\n"
     ]
    }
   ],
   "source": [
    "s = input()\n",
    "p1,p2 = 0,0\n",
    "\n",
    "for i in range(len(s)):\n",
    "    if(s[i] in \"AEIOU\"):      \n",
    "        p1 = p1 +  (len(s) - i)\n",
    "    else:\n",
    "        p2 = p2 + (len(s) - i)\n",
    "if(p1>p2):\n",
    "     print(\"Kevin\",p1)\n",
    "elif(p2>p1):\n",
    "     print(\"Stuart\",p2)\n",
    "else:\n",
    "     print(\"Draw\")\n"
   ]
  },
  {
   "cell_type": "markdown",
   "metadata": {},
   "source": [
    "### Merge the Tools!\n",
    "\n",
    "\n",
    "Consider the following:\n",
    "\n",
    "A string, , of length  where .\n",
    "An integer, , where  is a factor of .\n",
    "We can split  into  subsegments where each subsegment, , consists of a contiguous block of  characters in . Then, use each  to create string  such that:\n",
    "\n",
    "The characters in  are a subsequence of the characters in .\n",
    "Any repeat occurrence of a character is removed from the string such that each character in  occurs exactly once. In other words, if the character at some index  in  occurs at a previous index  in , then do not include the character in string .\n",
    "Given  and , print  lines where each line  denotes string .\n",
    "\n",
    "Input Format\n",
    "\n",
    "The first line contains a single string denoting . \n",
    "The second line contains an integer, , denoting the length of each subsegment.\n",
    "\n",
    "Constraints\n",
    "\n",
    ", where  is the length of \n",
    "It is guaranteed that  is a multiple of .\n",
    "Output Format\n",
    "\n",
    "Print  lines where each line  contains string .\n",
    "\n",
    "Sample Input\n",
    "\n",
    "AABCAAADA\n",
    "3   \n",
    "Sample Output\n",
    "\n",
    "AB\n",
    "CA\n",
    "AD\n",
    "Explanation\n",
    "\n",
    "String  is split into  equal parts of length . We convert each  to  by removing any subsequent occurrences non-distinct characters in :\n",
    "\n",
    "We then print each  on a new line."
   ]
  },
  {
   "cell_type": "code",
   "execution_count": 1,
   "metadata": {},
   "outputs": [
    {
     "name": "stdout",
     "output_type": "stream",
     "text": [
      "AABCAAADA\n",
      "3\n",
      "Lines: 3\n",
      "AB\n",
      "CA\n",
      "AD\n"
     ]
    }
   ],
   "source": [
    "s = input()\n",
    "k = int(input())\n",
    "n = len(s)\n",
    "lines = int (n/k)\n",
    "print(\"Lines:\",int(lines))\n",
    "\n",
    "temp2 = 0\n",
    "for i in range(0,lines):\n",
    "    \n",
    "    temp = s[temp2:lines+temp2]\n",
    "    \n",
    "    temp2 = temp2 + lines\n",
    "    \n",
    "    temp = ''.join( set( temp ) )\n",
    "   \n",
    "    print(temp)\n",
    "   "
   ]
  },
  {
   "cell_type": "code",
   "execution_count": null,
   "metadata": {
    "collapsed": true
   },
   "outputs": [],
   "source": [
    "    for j in range(0,(len(temp)-1)):\n",
    "        for k in range(j+1,len(temp)):\n",
    "            if(temp[j]==temp[k]):\n",
    "                print(temp[j],\"==\",temp[k])\n",
    "                temp.replace(temp[j],\"\")"
   ]
  }
 ],
 "metadata": {
  "kernelspec": {
   "display_name": "Python 3",
   "language": "python",
   "name": "python3"
  },
  "language_info": {
   "codemirror_mode": {
    "name": "ipython",
    "version": 3
   },
   "file_extension": ".py",
   "mimetype": "text/x-python",
   "name": "python",
   "nbconvert_exporter": "python",
   "pygments_lexer": "ipython3",
   "version": "3.6.2"
  }
 },
 "nbformat": 4,
 "nbformat_minor": 2
}
