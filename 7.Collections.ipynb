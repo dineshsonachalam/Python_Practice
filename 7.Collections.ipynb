{
 "cells": [
  {
   "cell_type": "markdown",
   "metadata": {},
   "source": [
    "#### collections.Counter():\n",
    "    Stores element at dict keys and their counts stored a t dict values."
   ]
  },
  {
   "cell_type": "code",
   "execution_count": 5,
   "metadata": {},
   "outputs": [
    {
     "name": "stdout",
     "output_type": "stream",
     "text": [
      "Counter({2: 4, 3: 4, 1: 3, 4: 2, 5: 1})\n",
      "dict_items([(1, 3), (2, 4), (3, 4), (4, 2), (5, 1)])\n",
      "dict_keys([1, 2, 3, 4, 5])\n",
      "dict_values([3, 4, 4, 2, 1])\n"
     ]
    }
   ],
   "source": [
    "from collections import Counter\n",
    "myList = [1,1,2,3,4,5,3,2,3,4,2,1,2,3]\n",
    "print(Counter(myList))\n",
    "\n",
    "print(Counter(myList).items())\n",
    "print(Counter(myList).keys())\n",
    "print(Counter(myList).values())"
   ]
  },
  {
   "cell_type": "code",
   "execution_count": 11,
   "metadata": {},
   "outputs": [
    {
     "name": "stdout",
     "output_type": "stream",
     "text": [
      "10\n",
      "2 3 4 5 6 8 7 6 5 18\n",
      "6\n",
      "6 55\n",
      "6 45\n",
      "6 55\n",
      "4 40\n",
      "18 60\n",
      "10 50\n",
      "200\n"
     ]
    }
   ],
   "source": [
    "import collections\n",
    "\n",
    "no_of_shoes = int(input())\n",
    "shoes = collections.Counter(map(int,input().split()))\n",
    "no_of_customers = int(input())\n",
    "income = 0\n",
    "for i in range(no_of_customers):\n",
    "    size,price = map(int,input().split())\n",
    "    if(shoes[size]):\n",
    "            income+=price\n",
    "            shoes[size]-=1\n",
    "print(income)"
   ]
  },
  {
   "cell_type": "markdown",
   "metadata": {},
   "source": [
    "####  defaultdict:\n",
    "    The defaultdict tool is a container in the collections class of Python. It's similar to the usual dictionary (dict) container, but it has one difference: The value fields' data type is specified upon initialization. "
   ]
  },
  {
   "cell_type": "code",
   "execution_count": 16,
   "metadata": {},
   "outputs": [
    {
     "name": "stdout",
     "output_type": "stream",
     "text": [
      "('python', ['Awesome', 'language'])\n",
      "('something', ['Legendary'])\n"
     ]
    }
   ],
   "source": [
    "from collections import defaultdict\n",
    "d = defaultdict(list)\n",
    "d['python'].append(\"Awesome\")\n",
    "d['something'].append(\"Legendary\")\n",
    "d['python'].append(\"language\")\n",
    "# print(d)\n",
    "for  i in d.items():\n",
    "    print(i)"
   ]
  },
  {
   "cell_type": "code",
   "execution_count": 74,
   "metadata": {},
   "outputs": [
    {
     "name": "stdout",
     "output_type": "stream",
     "text": [
      "2 2\n",
      "a\n",
      "a\n"
     ]
    }
   ],
   "source": [
    "from collections import defaultdict\n",
    "n,m = map(int,input().split())\n",
    "d1 = defaultdict(list)\n",
    "d2 = defaultdict(list)\n",
    "for i in range(0,n):\n",
    "    d2[int(i)].append(input())\n",
    "  \n",
    "     \n",
    "if(\"a\" in d2.values()):\n",
    "    print(\"a->present\")\n"
   ]
  },
  {
   "cell_type": "code",
   "execution_count": null,
   "metadata": {
    "collapsed": true
   },
   "outputs": [],
   "source": []
  },
  {
   "cell_type": "code",
   "execution_count": 39,
   "metadata": {},
   "outputs": [
    {
     "name": "stdout",
     "output_type": "stream",
     "text": [
      "defaultdict(<class 'list'>, {'something-else': ['not relevant']})\n",
      "dict_items([('something-else', ['not relevant'])])\n",
      "dict_values([['not relevant']])\n"
     ]
    }
   ],
   "source": [
    "\n",
    "from collections import defaultdict\n",
    "\n",
    "d9 = defaultdict(list)\n",
    "d9['something-else'].append(\"not relevant\")\n",
    "print(d9)\n",
    "print(d9.items())\n",
    "print(d9.values())\n",
    "  \n"
   ]
  },
  {
   "cell_type": "code",
   "execution_count": 76,
   "metadata": {},
   "outputs": [
    {
     "name": "stdout",
     "output_type": "stream",
     "text": [
      "a\n",
      "dict_values([['Sheril']])\n",
      "a\n",
      "dict_values([['a']])\n"
     ]
    }
   ],
   "source": [
    "\n",
    "from collections import defaultdict\n",
    "\n",
    "d3 = defaultdict(list)\n",
    "d3[input()].append(\"Sheril\")\n",
    "\n",
    "print(d3.values())\n",
    "d4 = defaultdict(list)\n",
    "d4[int(1)].append(input())\n",
    "print(d4.values())"
   ]
  },
  {
   "cell_type": "markdown",
   "metadata": {},
   "source": [
    "#### Collections.deque():\n",
    "                        deque() -> double ended queue. It can be used to add or remove element from both the ends."
   ]
  },
  {
   "cell_type": "code",
   "execution_count": 101,
   "metadata": {},
   "outputs": [
    {
     "name": "stdout",
     "output_type": "stream",
     "text": [
      "deque([3])\n",
      "deque([2, 3])\n",
      "deque([])\n",
      "deque(['4', '3', '2'])\n",
      "1\n",
      "deque(['4', '3'])\n",
      "deque(['4', '3', '7', '8', '9', '6'])\n",
      "deque(['6', '9', '8', '7', '3', '4'])\n",
      "deque(['7', '3', '4', '6', '9', '8'])\n"
     ]
    }
   ],
   "source": [
    "from collections import deque\n",
    "d = deque()\n",
    "d.append(3)\n",
    "print(d)\n",
    "d.appendleft(2)\n",
    "print(d)\n",
    "d.clear()\n",
    "print(d)\n",
    "d.extendleft('234')\n",
    "print(d)\n",
    "print(d.count('2'))\n",
    "d.pop()\n",
    "print(d)\n",
    "d.extend('7896')\n",
    "print(d)\n",
    "d.reverse()\n",
    "print(d)\n",
    "d.rotate(3)\n",
    "print(d)"
   ]
  },
  {
   "cell_type": "code",
   "execution_count": 102,
   "metadata": {},
   "outputs": [
    {
     "name": "stdout",
     "output_type": "stream",
     "text": [
      "6\n",
      "append 1\n",
      "append 2\n",
      "append 3\n",
      "appendleft 4\n",
      "pop\n",
      "popleft\n",
      "1 2 "
     ]
    }
   ],
   "source": [
    "from collections import deque\n",
    "d = deque()\n",
    "n = int(input())\n",
    "\n",
    "for i in range(0,n):\n",
    "    s = input().split()\n",
    "    if(s[0]==\"append\"):\n",
    "        d.append(int(s[1]))\n",
    "    elif(s[0]==\"appendleft\"):\n",
    "        d.appendleft(int(s[1]))\n",
    "    elif(s[0]==\"pop\"):\n",
    "        d.pop()\n",
    "    elif(s[0]==\"popleft\"):\n",
    "        d.popleft()\n",
    "for i in d:\n",
    "    print(i,end=\" \")"
   ]
  },
  {
   "cell_type": "code",
   "execution_count": 5,
   "metadata": {},
   "outputs": [
    {
     "name": "stdout",
     "output_type": "stream",
     "text": [
      "4 3 2 1 3 4\n",
      "True\n"
     ]
    }
   ],
   "source": [
    "\n"
   ]
  }
 ],
 "metadata": {
  "kernelspec": {
   "display_name": "Python 3",
   "language": "python",
   "name": "python3"
  },
  "language_info": {
   "codemirror_mode": {
    "name": "ipython",
    "version": 3
   },
   "file_extension": ".py",
   "mimetype": "text/x-python",
   "name": "python",
   "nbconvert_exporter": "python",
   "pygments_lexer": "ipython3",
   "version": "3.6.2"
  }
 },
 "nbformat": 4,
 "nbformat_minor": 2
}
