{
 "cells": [
  {
   "cell_type": "markdown",
   "metadata": {},
   "source": [
    "NumPy(Numeric Python) -> Helps to manipulate large arrays and matrices of numeric data."
   ]
  },
  {
   "cell_type": "code",
   "execution_count": 2,
   "metadata": {},
   "outputs": [
    {
     "name": "stdout",
     "output_type": "stream",
     "text": [
      "1\n",
      "2.0\n"
     ]
    }
   ],
   "source": [
    "import numpy\n",
    "a = numpy.array([1,2,3,4,5])\n",
    "print(a[0])\n",
    "b = numpy.array([1,2,3,4,5],float)\n",
    "print(b[1])"
   ]
  },
  {
   "cell_type": "code",
   "execution_count": 7,
   "metadata": {},
   "outputs": [
    {
     "name": "stdout",
     "output_type": "stream",
     "text": [
      "0\n",
      "2\n",
      "4\n",
      "6\n",
      "8\n"
     ]
    }
   ],
   "source": [
    "# Python Slice operation\n",
    "\n",
    "# a[start:end:step]\n",
    "\n",
    "for i in range(10)[::2]:\n",
    "    print(i)"
   ]
  },
  {
   "cell_type": "code",
   "execution_count": 8,
   "metadata": {},
   "outputs": [
    {
     "name": "stdout",
     "output_type": "stream",
     "text": [
      "1 2 3 4 5\n",
      "[ 5.  4.  3.  2.  1.]\n"
     ]
    }
   ],
   "source": [
    "import numpy\n",
    "\n",
    "def arrays(a): # Function Definition\n",
    "    a = a[::-1] # reverse the list\n",
    "    a = list(map(float,a)) # Convert the list of string to float datatype\n",
    "    a = numpy.array(a)\n",
    "    return a\n",
    "\n",
    "# Function Definition\n",
    "a = input().strip().split() # Split by blank spaces\n",
    "r  = arrays(a) # Function Declaration\n",
    "print(r)"
   ]
  },
  {
   "cell_type": "code",
   "execution_count": 10,
   "metadata": {},
   "outputs": [
    {
     "name": "stdout",
     "output_type": "stream",
     "text": [
      "1 2 3 4 5\n",
      "[ 5.  4.  3.  2.  1.]\n"
     ]
    }
   ],
   "source": [
    "import numpy\n",
    "\n",
    "def arrays(a): # Function Definition\n",
    "   return(numpy.array(a,float)[::-1])\n",
    "\n",
    "# Function Definition\n",
    "a = input().strip().split() # Split by blank spaces\n",
    "r  = arrays(a) # Function Declaration\n",
    "print(r)"
   ]
  },
  {
   "cell_type": "code",
   "execution_count": 14,
   "metadata": {},
   "outputs": [
    {
     "name": "stdout",
     "output_type": "stream",
     "text": [
      "(5,)\n",
      "(3, 2)\n"
     ]
    }
   ],
   "source": [
    "# shape tool -> Give tuple of array dimensions and can be used to change dimensions of the array\n",
    "\n",
    "# Using shape to get array dimensions\n",
    "\n",
    "import numpy\n",
    "my_1d = numpy.array([1,2,3,4,5])\n",
    "print(my_1d.shape) # (5,) -> 5 rows and 0 columns\n",
    "\n",
    "my_2d = numpy.array([[1,2],[3,4],[5,6]])\n",
    "print(my_2d.shape) # (3,2) -> 3 rows and 2 columns"
   ]
  },
  {
   "cell_type": "code",
   "execution_count": 15,
   "metadata": {},
   "outputs": [
    {
     "name": "stdout",
     "output_type": "stream",
     "text": [
      "[[1 2]\n",
      " [3 4]\n",
      " [5 6]]\n"
     ]
    }
   ],
   "source": [
    "# Using shape to change the array dimension\n",
    "import numpy\n",
    "change_array = numpy.array([1,2,3,4,5,6])\n",
    "change_array.shape = (3,2)\n",
    "print(change_array)"
   ]
  },
  {
   "cell_type": "code",
   "execution_count": 17,
   "metadata": {},
   "outputs": [
    {
     "name": "stdout",
     "output_type": "stream",
     "text": [
      "[[1 2]\n",
      " [3 4]\n",
      " [5 6]]\n",
      "[1 2 3 4 5 6]\n"
     ]
    }
   ],
   "source": [
    "# Using reshape-> gives newshape and without changing its data\n",
    "import numpy\n",
    "my_array_2 = numpy.array([1,2,3,4,5,6])\n",
    "print(numpy.reshape(my_array_2,(3,2)))\n",
    "print(my_array_2)"
   ]
  },
  {
   "cell_type": "code",
   "execution_count": 18,
   "metadata": {},
   "outputs": [
    {
     "name": "stdout",
     "output_type": "stream",
     "text": [
      "1 2 3 4 5 6 7 8 9\n",
      "[[1 2 3]\n",
      " [4 5 6]\n",
      " [7 8 9]]\n"
     ]
    }
   ],
   "source": [
    "import numpy\n",
    "\n",
    "s = input().strip().split() # Split input by blank spaces\n",
    "\n",
    "a = list(map(int,s))import numpy\n",
    "\n",
    "n,m  = map(int,input().split())\n",
    "a = list()\n",
    "for i in range(0,n):\n",
    "    a1 = list(map(int,input().split()))\n",
    "    a.append(a1)\n",
    "a = numpy.array(a)\n",
    "print(numpy.transpose(a))\n",
    "print(a.flatten())\n",
    "a = numpy.array(a)\n",
    "a.shape = (3,3)\n",
    "print(a)\n"
   ]
  },
  {
   "cell_type": "code",
   "execution_count": 19,
   "metadata": {},
   "outputs": [
    {
     "name": "stdout",
     "output_type": "stream",
     "text": [
      "2 2\n",
      "1 2\n",
      "3 4\n",
      "[[1 3]\n",
      " [2 4]]\n",
      "[1 2 3 4]\n"
     ]
    }
   ],
   "source": [
    "import numpy\n",
    "\n",
    "n,m  = map(int,input().split())\n",
    "a = list()\n",
    "for i in range(0,n):\n",
    "    a1 = list(map(int,input().split()))\n",
    "    a.append(a1)\n",
    "a = numpy.array(a)\n",
    "print(numpy.transpose(a))\n",
    "print(a.flatten())"
   ]
  },
  {
   "cell_type": "code",
   "execution_count": 27,
   "metadata": {},
   "outputs": [
    {
     "name": "stdout",
     "output_type": "stream",
     "text": [
      "2 2\n",
      "1 2\n",
      "3 4\n",
      "[[1 3]\n",
      " [2 4]]\n",
      "[1 2 3 4]\n"
     ]
    }
   ],
   "source": [
    "import numpy\n",
    "\n",
    "n1,m1 = map(int,input().split())\n",
    "a1 = numpy.array([input().strip().split() for _ in range(n1)],int)\n",
    "print(a1.transpose())\n",
    "print(a1.flatten())"
   ]
  },
  {
   "cell_type": "code",
   "execution_count": 25,
   "metadata": {},
   "outputs": [
    {
     "name": "stdout",
     "output_type": "stream",
     "text": [
      "1\n",
      "3\n",
      "Hello World!\n",
      "Hello World!\n"
     ]
    }
   ],
   "source": [
    "# '_' (underscore) variable in python consides as 'I dont care' \n",
    "# or 'Throwaway' variable in python used for ignoring specific values\n",
    "\n",
    "# Used for ignoring specific values\n",
    "\n",
    "(x,_,y)=(1,2,3)\n",
    "print(x)\n",
    "print(y)\n",
    "\n",
    "# Ignoring the index\n",
    "\n",
    "for _ in range(2):\n",
    "    print(\"Hello World!\")"
   ]
  },
  {
   "cell_type": "code",
   "execution_count": 41,
   "metadata": {},
   "outputs": [
    {
     "name": "stdout",
     "output_type": "stream",
     "text": [
      "[1 2 3 4 5 6 7 8 9]\n"
     ]
    }
   ],
   "source": [
    "import numpy\n",
    "\n",
    "array_1 = numpy.array([1,2,3])\n",
    "array_2 = numpy.array([4,5,6])\n",
    "array_3 = numpy.array([7,8,9])\n",
    "\n",
    "print(numpy.concatenate((array_1, array_2, array_3)))    "
   ]
  },
  {
   "cell_type": "code",
   "execution_count": 53,
   "metadata": {},
   "outputs": [
    {
     "name": "stdout",
     "output_type": "stream",
     "text": [
      "[[1 2 3 0 0 0]\n",
      " [0 0 0 7 8 9]\n",
      " [1 2 3 1 2 3]]\n"
     ]
    }
   ],
   "source": [
    "import numpy\n",
    "\n",
    "array_1 = numpy.array([[1,2,3],[0,0,0],[1,2,3]])\n",
    "array_2 = numpy.array([[0,0,0],[7,8,9],[1,2,3]])\n",
    "\n",
    "print(numpy.concatenate((array_1, array_2), axis = 1))   "
   ]
  },
  {
   "cell_type": "code",
   "execution_count": 58,
   "metadata": {},
   "outputs": [
    {
     "name": "stdout",
     "output_type": "stream",
     "text": [
      "4 3 2\n",
      "1 2\n",
      "1 2\n",
      "1 2\n",
      "1 2\n",
      "1 2\n",
      "1 2\n",
      "1 2\n",
      "[[1 2]\n",
      " [1 2]\n",
      " [1 2]\n",
      " [1 2]\n",
      " [1 2]\n",
      " [1 2]\n",
      " [1 2]]\n"
     ]
    }
   ],
   "source": [
    "n,m,p = map(int,input().strip().split())\n",
    "array_1 = list()\n",
    "array_2 = list()\n",
    "for _ in range(n):\n",
    "    a = list(map(int,input().strip().split()))\n",
    "    array_1.append(a)\n",
    "    \n",
    "for _ in range(m):\n",
    "    a = list(map(int,input().strip().split()))\n",
    "    array_2.append(a)\n",
    "\n",
    "array_1 = numpy.array(array_1)\n",
    "array_2 = numpy.array(array_2)\n",
    "print(numpy.concatenate((array_1,array_2),axis=0))"
   ]
  },
  {
   "cell_type": "code",
   "execution_count": 63,
   "metadata": {},
   "outputs": [
    {
     "name": "stdout",
     "output_type": "stream",
     "text": [
      "[[ 0.  0.]]\n"
     ]
    }
   ],
   "source": [
    "# zeros\n",
    "\n",
    "# The zeros tool returns a new array with a given shape and type filled with 's.\n",
    "import numpy\n",
    "print(numpy.zeros((1,2)))     # Type change into float"
   ]
  },
  {
   "cell_type": "code",
   "execution_count": 66,
   "metadata": {},
   "outputs": [
    {
     "name": "stdout",
     "output_type": "stream",
     "text": [
      "[[1 1]]\n"
     ]
    }
   ],
   "source": [
    "# ones\n",
    "\n",
    "# The ones tool returns a new array with a given shape and type filled with 1's.\n",
    "import numpy\n",
    "print(numpy.ones((1,2),dtype=numpy.int)) # Type change into int"
   ]
  },
  {
   "cell_type": "code",
   "execution_count": 67,
   "metadata": {},
   "outputs": [
    {
     "name": "stdout",
     "output_type": "stream",
     "text": [
      "3 3 3\n",
      "[[[0 0 0]\n",
      "  [0 0 0]\n",
      "  [0 0 0]]\n",
      "\n",
      " [[0 0 0]\n",
      "  [0 0 0]\n",
      "  [0 0 0]]\n",
      "\n",
      " [[0 0 0]\n",
      "  [0 0 0]\n",
      "  [0 0 0]]]\n",
      "[[[1 1 1]\n",
      "  [1 1 1]\n",
      "  [1 1 1]]\n",
      "\n",
      " [[1 1 1]\n",
      "  [1 1 1]\n",
      "  [1 1 1]]\n",
      "\n",
      " [[1 1 1]\n",
      "  [1 1 1]\n",
      "  [1 1 1]]]\n"
     ]
    }
   ],
   "source": [
    "import numpy\n",
    "nums = list(map(int, input().split()))\n",
    "print (numpy.zeros(nums, dtype = numpy.int))\n",
    "print (numpy.ones(nums, dtype = numpy.int))"
   ]
  },
  {
   "cell_type": "code",
   "execution_count": 70,
   "metadata": {},
   "outputs": [
    {
     "name": "stdout",
     "output_type": "stream",
     "text": [
      "[[ 1.  0.  0.]\n",
      " [ 0.  1.  0.]\n",
      " [ 0.  0.  1.]]\n"
     ]
    }
   ],
   "source": [
    "# identity\n",
    "\n",
    "# The identity tool returns an identity array. An identity array is a square \n",
    "# matrix with all the main diagonal elements as  1 and the rest as 0. The default type of elements is float.\n",
    "\n",
    "import numpy\n",
    "print(numpy.identity(3)) #3 is for  dimension 3 X 3"
   ]
  },
  {
   "cell_type": "code",
   "execution_count": 75,
   "metadata": {},
   "outputs": [
    {
     "name": "stdout",
     "output_type": "stream",
     "text": [
      "[[ 0.  0.  1.  0.  0.  0.  0.]\n",
      " [ 0.  0.  0.  1.  0.  0.  0.]\n",
      " [ 0.  0.  0.  0.  1.  0.  0.]\n",
      " [ 0.  0.  0.  0.  0.  1.  0.]\n",
      " [ 0.  0.  0.  0.  0.  0.  1.]\n",
      " [ 0.  0.  0.  0.  0.  0.  0.]\n",
      " [ 0.  0.  0.  0.  0.  0.  0.]\n",
      " [ 0.  0.  0.  0.  0.  0.  0.]]\n"
     ]
    }
   ],
   "source": [
    "# eye\n",
    "\n",
    "# The eye tool returns a 2-D array with 1's as the diagonal and 0's elsewhere. \n",
    "# The diagonal can be main, upper or lower depending on the optional parameter k . \n",
    "# A positive k is for the upper diagonal, a negative k is for the lower, and a 0 k   (default) is for the main diagonal.\n",
    "import numpy\n",
    "print(numpy.eye(8, 7, k = 2))    # 8 X 7 Dimensional array with first upper diagonal 1."
   ]
  },
  {
   "cell_type": "code",
   "execution_count": 76,
   "metadata": {},
   "outputs": [
    {
     "name": "stdout",
     "output_type": "stream",
     "text": [
      "3 3\n",
      "[[ 1.  0.  0.]\n",
      " [ 0.  1.  0.]\n",
      " [ 0.  0.  1.]]\n"
     ]
    }
   ],
   "source": [
    "import numpy\n",
    "m,n = map(int,input().strip().split())\n",
    "print(numpy.eye(m, n, k = 0))\n"
   ]
  },
  {
   "cell_type": "code",
   "execution_count": 78,
   "metadata": {},
   "outputs": [
    {
     "name": "stdout",
     "output_type": "stream",
     "text": [
      "[  6.   8.  10.  12.]\n",
      "[  6.   8.  10.  12.]\n",
      "[-4. -4. -4. -4.]\n",
      "[-4. -4. -4. -4.]\n",
      "[  5.  12.  21.  32.]\n",
      "[  5.  12.  21.  32.]\n",
      "[ 0.2         0.33333333  0.42857143  0.5       ]\n",
      "[ 0.2         0.33333333  0.42857143  0.5       ]\n",
      "[ 1.  2.  3.  4.]\n",
      "[ 1.  2.  3.  4.]\n",
      "[  1.00000000e+00   6.40000000e+01   2.18700000e+03   6.55360000e+04]\n",
      "[  1.00000000e+00   6.40000000e+01   2.18700000e+03   6.55360000e+04]\n"
     ]
    }
   ],
   "source": [
    "import numpy\n",
    "\n",
    "a = numpy.array([1,2,3,4], float)\n",
    "b = numpy.array([5,6,7,8], float)\n",
    "\n",
    "print(a + b)                     #[  6.   8.  10.  12.]\n",
    "print(numpy.add(a, b))           #[  6.   8.  10.  12.]\n",
    "\n",
    "print(a - b)                     #[-4. -4. -4. -4.]\n",
    "print(numpy.subtract(a, b))      #[-4. -4. -4. -4.]\n",
    "\n",
    "print(a * b)                     #[  5.  12.  21.  32.]\n",
    "print(numpy.multiply(a, b))      #[  5.  12.  21.  32.]\n",
    "\n",
    "print(a / b)                     #[ 0.2         0.33333333  0.42857143  0.5       ]\n",
    "print(numpy.divide(a, b))        #[ 0.2         0.33333333  0.42857143  0.5       ]\n",
    "\n",
    "print(a % b)                     #[ 1.  2.  3.  4.]\n",
    "print(numpy.mod(a, b))           #[ 1.  2.  3.  4.]\n",
    "\n",
    "print(a**b)                      #[  1.00000000e+00   6.40000000e+01   2.18700000e+03   6.55360000e+04]\n",
    "print(numpy.power(a, b))        #[  1.00000000e+00   6.40000000e+01   2.18700000e+03   6.55360000e+04]"
   ]
  },
  {
   "cell_type": "code",
   "execution_count": 80,
   "metadata": {},
   "outputs": [
    {
     "name": "stdout",
     "output_type": "stream",
     "text": [
      "[4 6]\n",
      "[3 7]\n",
      "10\n",
      "10\n"
     ]
    }
   ],
   "source": [
    "import numpy\n",
    "\n",
    "my_array = numpy.array([ [1, 2], [3, 4] ])\n",
    "\n",
    "print(numpy.sum(my_array, axis = 0) )        #Output : [4 6]\n",
    "print(numpy.sum(my_array, axis = 1)  )       #Output : [3 7]\n",
    "print(numpy.sum(my_array, axis = None))      #Output : 10\n",
    "print(numpy.sum(my_array))                   #Output : 10"
   ]
  },
  {
   "cell_type": "code",
   "execution_count": 84,
   "metadata": {},
   "outputs": [
    {
     "name": "stdout",
     "output_type": "stream",
     "text": [
      "2 2\n",
      "1 2\n",
      "3 4\n",
      "24\n"
     ]
    }
   ],
   "source": [
    "import numpy\n",
    "n,m = map(int,input().split())\n",
    "a = numpy.array([input().split() for _ in range(n)],int)\n",
    "print( numpy.prod( numpy.sum(a, axis = 0),axis = 0))\n",
    "\n"
   ]
  },
  {
   "cell_type": "code",
   "execution_count": 85,
   "metadata": {},
   "outputs": [
    {
     "name": "stdout",
     "output_type": "stream",
     "text": [
      "4 2\n",
      "2 5\n",
      "3 7\n",
      "1 3\n",
      "4 0\n",
      "3\n"
     ]
    }
   ],
   "source": [
    "import numpy\n",
    "n,m = map(int,input().strip().split())\n",
    "a = numpy.array([input().split() for _ in range(n)],int)\n",
    "print(numpy.max(  numpy.min(a, axis = 1)))\n",
    "\n"
   ]
  },
  {
   "cell_type": "code",
   "execution_count": null,
   "metadata": {
    "collapsed": true
   },
   "outputs": [],
   "source": [
    "\n",
    "\n",
    "\n",
    "\n"
   ]
  }
 ],
 "metadata": {
  "kernelspec": {
   "display_name": "Python 3",
   "language": "python",
   "name": "python3"
  },
  "language_info": {
   "codemirror_mode": {
    "name": "ipython",
    "version": 3
   },
   "file_extension": ".py",
   "mimetype": "text/x-python",
   "name": "python",
   "nbconvert_exporter": "python",
   "pygments_lexer": "ipython3",
   "version": "3.6.2"
  }
 },
 "nbformat": 4,
 "nbformat_minor": 2
}
