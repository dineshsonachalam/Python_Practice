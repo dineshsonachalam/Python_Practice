{
 "cells": [
  {
   "cell_type": "markdown",
   "metadata": {},
   "source": [
    "### _init_ method:\n",
    "                   __init__ is the constructor of the class that is invoked when and object is being created.\n",
    "### self(reference variable):\n",
    "                    Self refers to the current object. It similar to 'this' keyword in java."
   ]
  },
  {
   "cell_type": "code",
   "execution_count": 43,
   "metadata": {},
   "outputs": [
    {
     "name": "stdout",
     "output_type": "stream",
     "text": [
      "Hell, my name is Dinesh\n"
     ]
    }
   ],
   "source": [
    "class Person:\n",
    "    def __init__(self,name):\n",
    "        self.name = name #self a reference variable refers to the current object\n",
    "    def sayHi(self):\n",
    "        print(\"Hell, my name is\",self.name)\n",
    "        \n",
    "p = Person('Dinesh')\n",
    "p.sayHi()\n",
    "    "
   ]
  },
  {
   "cell_type": "markdown",
   "metadata": {},
   "source": [
    "### What is if __name__ == “__main__” ??\n",
    "\n",
    "1. When we execute a python script. It is treated as main and its __name__ attribute is set to __main__.  [Running the script directly]\n",
    "2. If you import script as a module in another script,the __name__ is set name of script/module. [Using module with import]\n"
   ]
  },
  {
   "cell_type": "code",
   "execution_count": 7,
   "metadata": {},
   "outputs": [
    {
     "name": "stdout",
     "output_type": "stream",
     "text": [
      "Executing as main program\n",
      "Value of __name__is: __main__\n",
      "I am from __main__\n"
     ]
    }
   ],
   "source": [
    "# CASE 1: RUNNING THE MODULE DIRECTLY in standalone program\n",
    "f1 = 100\n",
    "def Hello():\n",
    "    print(\"I am from\",__name__)\n",
    "if __name__ ==\"__main__\":\n",
    "    print(\"Executing as main program\")\n",
    "    print(\"Value of __name__is:\",__name__)\n",
    "    Hello()\n",
    "    \n",
    "# Go to test__name__==__main__.ipynb notebook to view:\n",
    "# CASE 2: USING MODULE WITH IMPORT\n",
    "\n",
    "#         import Classes  #Importing the module\n",
    "#         print(Classes.f1) #100\n",
    "#         Classes.Hello() # I am from \"Classes\"\n",
    "\n",
    "#         Here You can if statement in case 1 fails because\n",
    "#         Value of __name__ is set to contain the name of the module that is \"Classes\"\n",
    "\n",
    "#         print(Classes.__name__)\n",
    "#         # Now here value of __name__ is: Classes i.e(Name of the module)\n",
    "\n"
   ]
  },
  {
   "cell_type": "markdown",
   "metadata": {
    "collapsed": true
   },
   "source": [
    "### Class variables:\n",
    "                    Variable at class level "
   ]
  },
  {
   "cell_type": "code",
   "execution_count": 2,
   "metadata": {},
   "outputs": [
    {
     "name": "stdout",
     "output_type": "stream",
     "text": [
      "Tom\n",
      "Tiger\n"
     ]
    }
   ],
   "source": [
    "# Example:\n",
    "class shark:\n",
    "    animal_name =\"Tom\" # Class variables \n",
    "    animal_type =\"Tiger\" # Class variables\n",
    "\n",
    "new_obj = shark() # creating an instance(object) of shark class\n",
    "print(new_obj.animal_name)\n",
    "print(new_obj.animal_type)\n",
    "    "
   ]
  },
  {
   "cell_type": "markdown",
   "metadata": {},
   "source": [
    "### Instance Variable:\n",
    "- Owned by instances(object) of the class\n",
    "- For each object (or) instances of the class instance variable are different"
   ]
  },
  {
   "cell_type": "code",
   "execution_count": 6,
   "metadata": {},
   "outputs": [
    {
     "name": "stdout",
     "output_type": "stream",
     "text": [
      "Dinesh\n",
      "21\n"
     ]
    }
   ],
   "source": [
    "class shark:\n",
    "    #__init__ -> constructor of the class thats been invoked when object is being created.\n",
    "    def __init__(self,name,age): # self is a reference variable that points to the current object similar to 'this' in java\n",
    "        self.name = name\n",
    "        self.age = age\n",
    "new_shark = shark(\"Dinesh\",21) # Creating instance object of shark class\n",
    "print(new_shark.name)\n",
    "print(new_shark.age)"
   ]
  },
  {
   "cell_type": "markdown",
   "metadata": {},
   "source": [
    "### Working with class and Instance variable together"
   ]
  },
  {
   "cell_type": "code",
   "execution_count": null,
   "metadata": {
    "collapsed": true
   },
   "outputs": [],
   "source": [
    "class shark:\n",
    "    #class variable\n",
    "    location = \"Ocean\"\n",
    "    animal_type = \"fish\"\n",
    "    \n",
    "    # Constructor with instance variabble: name & age\n",
    "    def __init__(self,name,age):\n",
    "        self.name = name\n",
    "        self.age = age\n",
    "    # Method with instance variable followers\n",
    "    def set_followers(self,followers):\n",
    "        print(\"This user has\"+str(followers)+\"followers\") #str() -> nothing but python string conversion\n",
    "    \n",
    "    # Main function\n",
    "    def main()\n",
    "        # First object, setup instance variable name\n",
    "        s = shark(\"Tom\",5)\n",
    "        \n",
    "        # print out Instance variable name\n",
    "        print(s.name) #Tom\n",
    "        \n",
    "        # print out class variable location\n",
    "        print(s.location) # Ocean\n",
    "        \n",
    "        # Second object\n",
    "        steive = shark(\"Steive\",7)\n",
    "        \n",
    "        #print out instance variable name\n",
    "        print(steive.name)\n",
    "        \n",
    "        #print out set set_followers method and pass the followers instance variable\n",
    "        steive.set_followers(77)\n",
    "        \n",
    "        #print out class variable animal_type\n",
    "        print(steive.animal_type)\n",
    "        \n",
    "    if __name__ == \"__main__\":\n",
    "        main() #calls main function\n",
    "    "
   ]
  },
  {
   "cell_type": "markdown",
   "metadata": {},
   "source": [
    "### Use of __str__() in python?\n",
    "    \n",
    "- __str__() medod is similar to that of toString() method in java for an object\n",
    "- This method returns printable string representing that object\n"
   ]
  },
  {
   "cell_type": "code",
   "execution_count": 27,
   "metadata": {},
   "outputs": [
    {
     "name": "stdout",
     "output_type": "stream",
     "text": [
      "person class\n"
     ]
    }
   ],
   "source": [
    "class hello:\n",
    "    def __str__(self):\n",
    "        return 'person class'\n",
    "p  = hello()\n",
    "print(p)"
   ]
  },
  {
   "cell_type": "code",
   "execution_count": null,
   "metadata": {
    "collapsed": true
   },
   "outputs": [],
   "source": []
  }
 ],
 "metadata": {
  "kernelspec": {
   "display_name": "Python 3",
   "language": "python",
   "name": "python3"
  },
  "language_info": {
   "codemirror_mode": {
    "name": "ipython",
    "version": 3
   },
   "file_extension": ".py",
   "mimetype": "text/x-python",
   "name": "python",
   "nbconvert_exporter": "python",
   "pygments_lexer": "ipython3",
   "version": "3.6.2"
  }
 },
 "nbformat": 4,
 "nbformat_minor": 2
}
